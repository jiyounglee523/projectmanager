{
  "nbformat": 4,
  "nbformat_minor": 0,
  "metadata": {
    "colab": {
      "provenance": [],
      "authorship_tag": "ABX9TyMuPU9esPOiyZ8mcTyK8/Xl",
      "include_colab_link": true
    },
    "kernelspec": {
      "name": "python3",
      "display_name": "Python 3"
    },
    "language_info": {
      "name": "python"
    }
  },
  "cells": [
    {
      "cell_type": "markdown",
      "metadata": {
        "id": "view-in-github",
        "colab_type": "text"
      },
      "source": [
        "<a href=\"https://colab.research.google.com/github/jiyounglee523/projectmanager/blob/main/1_%ED%8C%8C%EC%9D%B4%EC%8D%AC_1%EC%9D%BC%EC%B0%A8_%EC%8B%A4%EC%8A%B5.ipynb\" target=\"_parent\"><img src=\"https://colab.research.google.com/assets/colab-badge.svg\" alt=\"Open In Colab\"/></a>"
      ]
    },
    {
      "cell_type": "markdown",
      "source": [
        "# 파이썬 기초 프로그래밍 - 1일차 실습\n"
      ],
      "metadata": {
        "id": "_gU5AUhpeUZb"
      }
    },
    {
      "cell_type": "markdown",
      "source": [
        "##1.  코랩에서 파이썬 사용하기\n",
        "\n",
        "\n",
        "\n",
        "#### 시작\n",
        "\n",
        "\n",
        "---"
      ],
      "metadata": {
        "id": "gsmxfc4RejsM"
      }
    },
    {
      "cell_type": "markdown",
      "source": [
        "### 2. 파이썬 실습 1일차"
      ],
      "metadata": {
        "id": "4cPkSz_Zgjw6"
      }
    },
    {
      "cell_type": "markdown",
      "source": [
        "# 시작"
      ],
      "metadata": {
        "id": "hjbXs_vrglNi"
      }
    },
    {
      "cell_type": "markdown",
      "source": [],
      "metadata": {
        "id": "zLUkznx-gq7i"
      }
    },
    {
      "cell_type": "code",
      "execution_count": 1,
      "metadata": {
        "colab": {
          "base_uri": "https://localhost:8080/",
          "height": 35
        },
        "id": "nV0tfQVOdhwz",
        "outputId": "3f224d28-b872-40b4-ee3f-849ed601d884"
      },
      "outputs": [
        {
          "output_type": "execute_result",
          "data": {
            "text/plain": [
              "'3.10.12 (main, Jun 11 2023, 05:26:28) [GCC 11.4.0]'"
            ],
            "application/vnd.google.colaboratory.intrinsic+json": {
              "type": "string"
            }
          },
          "metadata": {},
          "execution_count": 1
        }
      ],
      "source": [
        "import sys\n",
        "\n",
        "sys.version\n"
      ]
    },
    {
      "cell_type": "markdown",
      "source": [
        "** 간단 계산기 프로그램 작성하기**\n"
      ],
      "metadata": {
        "id": "dvHHIVmffJlc"
      }
    },
    {
      "cell_type": "markdown",
      "source": [
        "# 새 섹션"
      ],
      "metadata": {
        "id": "m3ETcG97gcLC"
      }
    },
    {
      "cell_type": "code",
      "source": [
        "a=100\n",
        "b=50\n",
        "print(a+b)\n",
        "print(a-b)\n",
        "print(a*b)\n",
        "print(a/b)"
      ],
      "metadata": {
        "colab": {
          "base_uri": "https://localhost:8080/"
        },
        "id": "4bsQ-ssrjqrb",
        "outputId": "2e5fee7e-cfbe-4fe1-9fd4-ad694fb506a6"
      },
      "execution_count": 3,
      "outputs": [
        {
          "output_type": "stream",
          "name": "stdout",
          "text": [
            "150\n",
            "50\n",
            "5000\n",
            "2.0\n"
          ]
        }
      ]
    }
  ]
}