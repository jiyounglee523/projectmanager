{
  "cells": [
    {
      "cell_type": "markdown",
      "metadata": {
        "id": "view-in-github",
        "colab_type": "text"
      },
      "source": [
        "<a href=\"https://colab.research.google.com/github/jiyounglee523/projectmanager/blob/main/3_%EB%8D%B0%EC%9D%B4%ED%84%B0%EB%AA%A8%EB%8D%B8%EB%A7%81_01_%ED%8C%8C%EC%9D%B4%EC%8D%AC%EC%97%90%EC%84%9CMySQL%EC%82%AC%EC%9A%A9%ED%95%98%EA%B8%B0.ipynb\" target=\"_parent\"><img src=\"https://colab.research.google.com/assets/colab-badge.svg\" alt=\"Open In Colab\"/></a>"
      ]
    },
    {
      "cell_type": "markdown",
      "id": "4814b409",
      "metadata": {
        "id": "4814b409"
      },
      "source": [
        "# 데이터 모델링\n",
        "\n",
        "## 1. 파이썬에서 MYSQL 사용하기"
      ]
    },
    {
      "cell_type": "markdown",
      "id": "7e601619",
      "metadata": {
        "id": "7e601619"
      },
      "source": [
        "### 라이브러리 설치하기"
      ]
    },
    {
      "cell_type": "code",
      "execution_count": null,
      "id": "c4d61d7b",
      "metadata": {
        "scrolled": true,
        "id": "c4d61d7b",
        "outputId": "133c4f54-3dc5-4584-8fca-924519cb958e"
      },
      "outputs": [
        {
          "name": "stderr",
          "output_type": "stream",
          "text": [
            "WARNING: Ignoring invalid distribution -pype1 (c:\\python\\python310\\lib\\site-packages)\n",
            "WARNING: Ignoring invalid distribution -pype1 (c:\\python\\python310\\lib\\site-packages)\n"
          ]
        },
        {
          "name": "stdout",
          "output_type": "stream",
          "text": [
            "Requirement already satisfied: pymysql in c:\\python\\python310\\lib\\site-packages (1.0.3)\n"
          ]
        }
      ],
      "source": [
        "!pip install pymysql"
      ]
    },
    {
      "cell_type": "markdown",
      "id": "89e27229",
      "metadata": {
        "id": "89e27229"
      },
      "source": [
        "---------------"
      ]
    },
    {
      "cell_type": "markdown",
      "id": "dee20851",
      "metadata": {
        "id": "dee20851"
      },
      "source": [
        "### MYSQL DB 생성하기\n",
        "#### # mysql 워크벤치에서 sql문장 실행하기"
      ]
    },
    {
      "cell_type": "markdown",
      "id": "9a280323",
      "metadata": {
        "id": "9a280323"
      },
      "source": [
        "DROP DATABASE IF EXISTS soloDB; <br>\n",
        "CREATE DATABASE soloDB;"
      ]
    },
    {
      "cell_type": "markdown",
      "id": "e38c7a9e",
      "metadata": {
        "id": "e38c7a9e"
      },
      "source": [
        "#### # 윈도우 cmd(명령 프롬프트) 창에서 실행시키기\n",
        "- 윈도우 환경변수에 mysql설치위치 bin path 추가하기 <br>\n",
        "C:\\Program Files\\MySQL\\MySQL Server 8.0\\bin <br>\n",
        "\n",
        "- cmd 실행시키기\n",
        "- mysql 연결하기 : mysql -u 유저네임 -p 패스워드\n",
        "- 위 sql문장 실행하기"
      ]
    },
    {
      "cell_type": "markdown",
      "id": "eb7faf97",
      "metadata": {
        "id": "eb7faf97"
      },
      "source": [
        "--------------"
      ]
    },
    {
      "cell_type": "markdown",
      "id": "42aed3bc",
      "metadata": {
        "id": "42aed3bc"
      },
      "source": [
        "### MYSQL DB 테이블에 데이터 생성하는 파이썬 코딩 순서"
      ]
    },
    {
      "cell_type": "markdown",
      "id": "6b973b1d",
      "metadata": {
        "id": "6b973b1d"
      },
      "source": [
        "#### #파이썬에서 코딩 순서\n",
        "\n",
        " 1. Mysql  연결하기 : 연결자 = pymysql.connect(연결 옵션)\n",
        " 2. 커서 생성하기 : 커서이름 = 연결자.cursor()\n",
        " 3. 테이블 만들기 : 커서이름.execute(\"CREATE TABLE 문장\")\n",
        " 4. 데이터 입력하기 : 커서이름.execute(\"INSERT 문장\")\n",
        " 5. 입력한 데이터 저장하기 : 연결자.commit()\n",
        " 6. Mysql 연결 종료하기 : 연결자.close()"
      ]
    },
    {
      "cell_type": "code",
      "execution_count": null,
      "id": "03ffc64e",
      "metadata": {
        "id": "03ffc64e"
      },
      "outputs": [],
      "source": [
        "user='root'; password='mysql'; db='mydb'"
      ]
    },
    {
      "cell_type": "markdown",
      "id": "c6a16483",
      "metadata": {
        "id": "c6a16483"
      },
      "source": [
        "#### #1. Mysql  연결하기 : 연결자 = pymysql.connect(연결 옵션)"
      ]
    },
    {
      "cell_type": "code",
      "execution_count": null,
      "id": "4be4d6bb",
      "metadata": {
        "id": "4be4d6bb"
      },
      "outputs": [],
      "source": [
        "import pymysql\n",
        "\n",
        "conn = pymysql.connect(host='127.0.0.1', user=user, password=password, db=db, charset='utf8')\n",
        "conn = pymysql.connect(host='localhost', user=user, password=password, db=db, charset='utf8')"
      ]
    },
    {
      "cell_type": "markdown",
      "id": "bec5abb6",
      "metadata": {
        "id": "bec5abb6"
      },
      "source": [
        "#### #2. 커서 생성하기 : 커서이름 = 연결자.cursor()"
      ]
    },
    {
      "cell_type": "code",
      "execution_count": null,
      "id": "1b682924",
      "metadata": {
        "id": "1b682924"
      },
      "outputs": [],
      "source": [
        "cur = conn.cursor()"
      ]
    },
    {
      "cell_type": "markdown",
      "id": "61073bd9",
      "metadata": {
        "id": "61073bd9"
      },
      "source": [
        "#### #3. 테이블 만들기 : 커서이름.execute(\"CREATE TABLE 문장\")"
      ]
    },
    {
      "cell_type": "code",
      "execution_count": null,
      "id": "c1bf1b9c",
      "metadata": {
        "id": "c1bf1b9c",
        "outputId": "c1c0892b-1548-4668-896c-723ba6f21078"
      },
      "outputs": [
        {
          "data": {
            "text/plain": [
              "0"
            ]
          },
          "execution_count": 8,
          "metadata": {},
          "output_type": "execute_result"
        }
      ],
      "source": [
        "cur.execute(\"CREATE TABLE userTable (id char(4), userName char(15), email char(20), birthYear int)\")"
      ]
    },
    {
      "cell_type": "markdown",
      "id": "ff8be93c",
      "metadata": {
        "id": "ff8be93c"
      },
      "source": [
        "#### #4. 데이터 입력하기 : 커서이름.execute(\"INSERT 문장\")"
      ]
    },
    {
      "cell_type": "code",
      "execution_count": null,
      "id": "e904b03b",
      "metadata": {
        "id": "e904b03b",
        "outputId": "ff4ee3a1-8501-46df-9f0b-79f08a28466d"
      },
      "outputs": [
        {
          "data": {
            "text/plain": [
              "1"
            ]
          },
          "execution_count": 9,
          "metadata": {},
          "output_type": "execute_result"
        }
      ],
      "source": [
        "cur.execute(\"INSERT INTO userTable VALUES ('hong', '홍지윤', 'hong@naver.com', 1966)\")\n",
        "cur.execute(\"INSERT INTO userTable VALUES ('kim', '김태연', 'kim@daum.net', 2011)\")\n",
        "cur.execute(\"INSERT INTO userTable VALUES ('star', '별사랑', 'star@paran.com', 1990)\")\n",
        "cur.execute(\"INSERT INTO userTable VALUES ('yang', '양지은', 'yang@gmail.com', 1993)\")"
      ]
    },
    {
      "cell_type": "markdown",
      "id": "6a9b3860",
      "metadata": {
        "id": "6a9b3860"
      },
      "source": [
        "#### #5. 입력한 데이터 저장하기 : 연결자.commit()"
      ]
    },
    {
      "cell_type": "code",
      "execution_count": null,
      "id": "290a7de8",
      "metadata": {
        "id": "290a7de8"
      },
      "outputs": [],
      "source": [
        "conn.commit()"
      ]
    },
    {
      "cell_type": "markdown",
      "id": "40e9120b",
      "metadata": {
        "id": "40e9120b"
      },
      "source": [
        "#### #6. Mysql 연결 종료하기 : 연결자.close()"
      ]
    },
    {
      "cell_type": "code",
      "execution_count": null,
      "id": "2af024d5",
      "metadata": {
        "id": "2af024d5"
      },
      "outputs": [],
      "source": [
        "conn.close()"
      ]
    },
    {
      "cell_type": "markdown",
      "id": "f96fc172",
      "metadata": {
        "id": "f96fc172"
      },
      "source": [
        "---------------------"
      ]
    },
    {
      "cell_type": "markdown",
      "id": "5e761a02",
      "metadata": {
        "id": "5e761a02"
      },
      "source": [
        "### [예제] 사용자로부터 데이터 입력 프로그램"
      ]
    },
    {
      "cell_type": "code",
      "execution_count": null,
      "id": "11a83d76",
      "metadata": {
        "id": "11a83d76",
        "outputId": "54e41364-7efb-470d-fd44-47e07ff6407e"
      },
      "outputs": [
        {
          "name": "stdout",
          "output_type": "stream",
          "text": [
            "INSERT INTO userTable VALUES('jane','고제인','jane@gmail.com',2009)\n"
          ]
        }
      ],
      "source": [
        "import pymysql\n",
        "\n",
        "# 전역변수 선언\n",
        "conn, cur = None, None\n",
        "dat1, data2, data3, data4 = '','','',''\n",
        "sql = ''\n",
        "\n",
        "# 메인 코드\n",
        "conn = pymysql.connect(host='127.0.0.1', user=user, password=password, db=db, charset='utf8')\n",
        "cur = conn.cursor()\n",
        "\n",
        "while True:\n",
        "    data1 = input(\"사용자 ID ==> \")         # 4자리\n",
        "    if data1 == '': break\n",
        "    data2 = input(\"사용자 이름 ==> \")       # 15자리\n",
        "    data3 = input(\"사용자 이메일 ==> \")     # 20자리\n",
        "    data4 = input(\"사용자 출생연도 ==> \")   # 4자리\n",
        "#     sql = \"INSERT INTO userTable VALUES('\"+data1+\"','\"+data2+\"','\"+data3+\"',\"+data4+\")\"\n",
        "    sql = f\"INSERT INTO userTable VALUES('{data1}','{data2}','{data3}',{int(data4)})\"\n",
        "    print(sql)\n",
        "    cur.execute(sql)\n",
        "\n",
        "conn.commit()\n",
        "conn.close()"
      ]
    },
    {
      "cell_type": "markdown",
      "id": "fafe9959",
      "metadata": {
        "id": "fafe9959"
      },
      "source": [
        "-------------------"
      ]
    },
    {
      "cell_type": "markdown",
      "id": "5f609aa6",
      "metadata": {
        "id": "5f609aa6"
      },
      "source": [
        "### MYSQL의 데이터 조회를 위한 파이썬 코딩 순서"
      ]
    },
    {
      "cell_type": "markdown",
      "id": "b6fb7dcd",
      "metadata": {
        "id": "b6fb7dcd"
      },
      "source": [
        "#### #파이썬에서 코딩 순서\n",
        "\n",
        " 1. Mysql 연결하기 : 연결자 = pymysql.connect(연결 옵션)\n",
        " 2. 커서 생성하기 : 커서이름 = 연결자.cursor()\n",
        " 4. 데이터 조회하기 : 커서이름.execute(\"SELECT 문장\")\n",
        " 5. 조회한 데이터 출력하기 : 커서이름.fetchone()   #fetchone(): 한 행씩 접근, fetchall(): 모든 행 접근\n",
        " 6. Mysql 연결 종료하기 : 연결자.close()"
      ]
    },
    {
      "cell_type": "markdown",
      "id": "c98f4055",
      "metadata": {
        "id": "c98f4055"
      },
      "source": [
        "### [예제] 데이터 조회 프로그램\n",
        "- **cur.fetchone()**"
      ]
    },
    {
      "cell_type": "code",
      "execution_count": null,
      "id": "d779f0e9",
      "metadata": {
        "scrolled": true,
        "id": "d779f0e9",
        "outputId": "72b0765e-b7f2-4f3e-d84a-f44f3f0150ab"
      },
      "outputs": [
        {
          "name": "stdout",
          "output_type": "stream",
          "text": [
            "사용자ID\t사용자이름\t이메일\t\t출생연도\n",
            "--------------------------------------------------------------------------------\n",
            "hong\t\t홍지윤\t\thong@naver.com\t\t1966\n",
            "kim\t\t김태연\t\tkim@daum.net\t\t2011\n",
            "star\t\t별사랑\t\tstar@paran.com\t\t1990\n",
            "yang\t\t양지은\t\tyang@gmail.com\t\t1993\n",
            "jane\t\t고제인\t\tjane@gmail.com\t\t2009\n"
          ]
        }
      ],
      "source": [
        "import pymysql\n",
        "\n",
        "# 전역변수 선언\n",
        "conn, cur = None, None\n",
        "dat1, data2, data3, data4 = '','','',''\n",
        "sql = ''\n",
        "row = None\n",
        "\n",
        "# 메인 코드\n",
        "conn = pymysql.connect(host='127.0.0.1', user=user, password=password, db=db, charset='utf8')\n",
        "cur = conn.cursor()\n",
        "\n",
        "sql = \"SELECT * FROM userTable\"\n",
        "cur.execute(sql)\n",
        "\n",
        "print(\"사용자ID\\t사용자이름\\t이메일\\t\\t출생연도\")\n",
        "print(\"-\"*80)\n",
        "\n",
        "while True:\n",
        "    row = cur.fetchone()\n",
        "    if row == None: break\n",
        "    data1 = row[0]\n",
        "    data2 = row[1]\n",
        "    data3 = row[2]\n",
        "    data4 = row[3]\n",
        "    print(f\"{data1}\\t\\t{data2}\\t\\t{data3}\\t\\t{data4}\")\n",
        "\n",
        "conn.close()"
      ]
    },
    {
      "cell_type": "markdown",
      "id": "82feb286",
      "metadata": {
        "id": "82feb286"
      },
      "source": [
        "- **cur.fetchall()**"
      ]
    },
    {
      "cell_type": "code",
      "execution_count": null,
      "id": "13191758",
      "metadata": {
        "id": "13191758",
        "outputId": "fa45b369-dfb9-4b3d-907a-52d7a7051796"
      },
      "outputs": [
        {
          "name": "stdout",
          "output_type": "stream",
          "text": [
            "사용자ID\t사용자이름\t이메일\t\t출생연도\n",
            "--------------------------------------------------------------------------------\n",
            "hong\t\t홍지윤\t\thong@naver.com\t\t1966\n",
            "kim\t\t김태연\t\tkim@daum.net\t\t2011\n",
            "star\t\t별사랑\t\tstar@paran.com\t\t1990\n",
            "yang\t\t양지은\t\tyang@gmail.com\t\t1993\n",
            "jane\t\t고제인\t\tjane@gmail.com\t\t2009\n"
          ]
        }
      ],
      "source": [
        "import pymysql\n",
        "\n",
        "# 전역변수 선언\n",
        "conn, cur = None, None\n",
        "dat1, data2, data3, data4 = '','','',''\n",
        "sql = ''\n",
        "row = None\n",
        "\n",
        "# 메인 코드\n",
        "conn = pymysql.connect(host='127.0.0.1', user=user, password=password, db=db, charset='utf8')\n",
        "cur = conn.cursor()\n",
        "\n",
        "sql = \"SELECT * FROM userTable\"\n",
        "cur.execute(sql)\n",
        "\n",
        "print(\"사용자ID\\t사용자이름\\t이메일\\t\\t출생연도\")\n",
        "print(\"-\"*80)\n",
        "\n",
        "rows = cur.fetchall()\n",
        "for row in rows:\n",
        "    data1 = row[0]\n",
        "    data2 = row[1]\n",
        "    data3 = row[2]\n",
        "    data4 = row[3]\n",
        "    print(f\"{data1}\\t\\t{data2}\\t\\t{data3}\\t\\t{data4}\")\n",
        "\n",
        "conn.close()"
      ]
    },
    {
      "cell_type": "markdown",
      "id": "5d4c1c07",
      "metadata": {
        "id": "5d4c1c07"
      },
      "source": [
        "-------------------------"
      ]
    },
    {
      "cell_type": "markdown",
      "id": "7de0a433",
      "metadata": {
        "id": "7de0a433"
      },
      "source": [
        "### [예제] 데이터 입력&조회 GUI 프로그램"
      ]
    },
    {
      "cell_type": "code",
      "execution_count": null,
      "id": "726401d3",
      "metadata": {
        "id": "726401d3"
      },
      "outputs": [],
      "source": [
        "import pymysql\n",
        "from tkinter import *\n",
        "from tkinter import messagebox\n",
        "\n",
        "# 입력 데이터 체크\n",
        "def checkInsertData():\n",
        "\n",
        "    if edt1.get() == '':\n",
        "        messagebox.showinfo('성공', '사용자ID를 입력하세요.')\n",
        "        return False\n",
        "    if edt2.get() == '':\n",
        "        messagebox.showinfo('성공', '사용자이름를 입력하세요.')\n",
        "        return False\n",
        "    if edt3.get() == '':\n",
        "        messagebox.showinfo('성공', '사용자이메일를 입력하세요.')\n",
        "        return False\n",
        "    if edt4.get() == '':\n",
        "        messagebox.showinfo('성공', '출생년도를 입력하세요.')\n",
        "        return False\n",
        "\n",
        "    return True\n",
        "\n",
        "\n",
        "# 데이터 추가\n",
        "def insertData():\n",
        "    conn, cur = None, None\n",
        "    data1, data2, data3, data4 = '','','',''\n",
        "    sql = ''\n",
        "\n",
        "    conn = pymysql.connect(host='127.0.0.1', user=user, password=password, db=db, charset='utf8')\n",
        "    cur = conn.cursor()\n",
        "\n",
        "    if checkInsertData():\n",
        "        data1 = edt1.get()\n",
        "        data2 = edt2.get()\n",
        "        data3 = edt3.get();\n",
        "        data4 = edt4.get()\n",
        "        sql = f\"INSERT INTO userTable VALUES ('{data1}','{data2}','{data3}','{data4}')\"\n",
        "        cur.execute(sql)\n",
        "\n",
        "        conn.commit()\n",
        "\n",
        "        messagebox.showinfo('성공', '데이터 입력 성공')\n",
        "\n",
        "\n",
        "    conn.close()\n",
        "\n",
        "\n",
        "# 데이터 조회\n",
        "def selectData():\n",
        "    strData1, strData2, strData3, strData4 = [], [], [], []\n",
        "\n",
        "    conn = pymysql.connect(host='127.0.0.1', user=user, password=password, db=db, charset='utf8')\n",
        "    cur = conn.cursor()\n",
        "    cur.execute(\"SELECT * FROM userTable\")\n",
        "\n",
        "    strData1.append(\"사용자ID\");      strData2.append(\"사용자이름\")\n",
        "    strData3.append(\"사용자이메일\");  strData4.append(\"출생년도\")\n",
        "    strData1.append(\"------------\");  strData2.append(\"------------\")\n",
        "    strData3.append(\"------------\");  strData4.append(\"------------\")\n",
        "\n",
        "    while True:\n",
        "        row = cur.fetchone()\n",
        "        if row == None: break\n",
        "        strData1.append(row[0]);  strData2.append(row[1])\n",
        "        strData3.append(row[2]);  strData4.append(row[3])\n",
        "\n",
        "    listData1.delete(0, listData1.size() -1)\n",
        "    listData2.delete(0, listData2.size() -1)\n",
        "    listData3.delete(0, listData3.size() -1)\n",
        "    listData4.delete(0, listData4.size() -1)\n",
        "\n",
        "    for item1, item2, item3, item4 in zip(strData1, strData2, strData3, strData4):\n",
        "        listData1.insert(END, item1)\n",
        "        listData2.insert(END, item2)\n",
        "        listData3.insert(END, item3)\n",
        "        listData4.insert(END, item4)\n",
        "\n",
        "    conn.close()\n"
      ]
    },
    {
      "cell_type": "code",
      "execution_count": null,
      "id": "b953e61c",
      "metadata": {
        "id": "b953e61c"
      },
      "outputs": [],
      "source": [
        "## 메인 ##\n",
        "root = Tk()\n",
        "root.geometry(\"600x300\")\n",
        "root.title(\"데이터 입력&조회 GUI 프로그램\")\n",
        "\n",
        "edtFrame = Frame(root)\n",
        "edtFrame.pack()\n",
        "listFrame = Frame(root)\n",
        "listFrame.pack(side=BOTTOM, fill=BOTH, expand=1)\n",
        "\n",
        "edt1 = Entry(edtFrame, width=10);  edt1.pack(side=LEFT, padx=10, pady=10)\n",
        "edt2 = Entry(edtFrame, width=10);  edt2.pack(side=LEFT, padx=10, pady=10)\n",
        "edt3 = Entry(edtFrame, width=10);  edt3.pack(side=LEFT, padx=10, pady=10)\n",
        "edt4 = Entry(edtFrame, width=10);  edt4.pack(side=LEFT, padx=10, pady=10)\n",
        "\n",
        "btnInsert = Button(edtFrame, text=\"입력\", command=insertData)\n",
        "btnInsert.pack(side=LEFT, padx=10, pady=10)\n",
        "btnInsert = Button(edtFrame, text=\"조회\", command=selectData)\n",
        "btnInsert.pack(side=LEFT, padx=10, pady=10)\n",
        "\n",
        "listData1 = Listbox(listFrame, bg='yellow');\n",
        "listData1.pack(side=LEFT, fill=BOTH, expand=1)\n",
        "listData2 = Listbox(listFrame, bg='yellow');\n",
        "listData2.pack(side=LEFT, fill=BOTH, expand=1)\n",
        "listData3 = Listbox(listFrame, bg='yellow');\n",
        "listData3.pack(side=LEFT, fill=BOTH, expand=1)\n",
        "listData4 = Listbox(listFrame, bg='yellow');\n",
        "listData4.pack(side=LEFT, fill=BOTH, expand=1)\n",
        "\n",
        "root.mainloop()"
      ]
    },
    {
      "cell_type": "code",
      "execution_count": null,
      "id": "b00cc894",
      "metadata": {
        "id": "b00cc894"
      },
      "outputs": [],
      "source": []
    }
  ],
  "metadata": {
    "kernelspec": {
      "display_name": "Python 3 (ipykernel)",
      "language": "python",
      "name": "python3"
    },
    "language_info": {
      "codemirror_mode": {
        "name": "ipython",
        "version": 3
      },
      "file_extension": ".py",
      "mimetype": "text/x-python",
      "name": "python",
      "nbconvert_exporter": "python",
      "pygments_lexer": "ipython3",
      "version": "3.10.9"
    },
    "colab": {
      "provenance": [],
      "include_colab_link": true
    }
  },
  "nbformat": 4,
  "nbformat_minor": 5
}