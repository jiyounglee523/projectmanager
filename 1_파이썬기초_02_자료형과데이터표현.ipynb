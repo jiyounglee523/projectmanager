{
  "cells": [
    {
      "cell_type": "markdown",
      "metadata": {
        "id": "view-in-github",
        "colab_type": "text"
      },
      "source": [
        "<a href=\"https://colab.research.google.com/github/jiyounglee523/projectmanager/blob/main/1_%ED%8C%8C%EC%9D%B4%EC%8D%AC%EA%B8%B0%EC%B4%88_02_%EC%9E%90%EB%A3%8C%ED%98%95%EA%B3%BC%EB%8D%B0%EC%9D%B4%ED%84%B0%ED%91%9C%ED%98%84.ipynb\" target=\"_parent\"><img src=\"https://colab.research.google.com/assets/colab-badge.svg\" alt=\"Open In Colab\"/></a>"
      ]
    },
    {
      "cell_type": "markdown",
      "id": "8daf7079",
      "metadata": {
        "id": "8daf7079"
      },
      "source": [
        "# 파이썬 기초 다지기"
      ]
    },
    {
      "cell_type": "markdown",
      "id": "3f3da3bd",
      "metadata": {
        "id": "3f3da3bd"
      },
      "source": [
        "## 2 - 파이썬 자료형과 데이터 표현\n",
        "파이썬의 다양한 데이터 타입과 다양한 연산자, 문자열"
      ]
    },
    {
      "cell_type": "markdown",
      "id": "0c52a67e",
      "metadata": {
        "id": "0c52a67e"
      },
      "source": [
        "----------------------------------"
      ]
    },
    {
      "cell_type": "markdown",
      "id": "1ff36611",
      "metadata": {
        "id": "1ff36611"
      },
      "source": [
        "## 2-1.파이썬 자료형(Data Type)"
      ]
    },
    {
      "cell_type": "markdown",
      "id": "278fb39c",
      "metadata": {
        "id": "278fb39c"
      },
      "source": [
        "### 수학 연산하기"
      ]
    },
    {
      "cell_type": "code",
      "execution_count": null,
      "id": "7ea3146f",
      "metadata": {
        "colab": {
          "base_uri": "https://localhost:8080/"
        },
        "id": "7ea3146f",
        "outputId": "7bbf2d59-52d1-4723-a89e-58710e85ccf7"
      },
      "outputs": [
        {
          "output_type": "stream",
          "name": "stdout",
          "text": [
            "30\n",
            "-10\n",
            "200\n",
            "0.5\n"
          ]
        }
      ],
      "source": [
        "a=10\n",
        "b=20\n",
        "print(a+b)\n",
        "print(a-b)\n",
        "print(a*b)\n",
        "print(a/b)\n",
        "\n"
      ]
    },
    {
      "cell_type": "markdown",
      "id": "105f773c",
      "metadata": {
        "id": "105f773c"
      },
      "source": [
        "### [실습문제]\n",
        "- 문제1: 10 + 3 x 4 결과 출력\n",
        "- 문제2: 아이폰 15대를 가지고 있다. 아이폰의 가격이 130만원 일 때 총 금액은?\n",
        "- 문제3: 주어진 자연수가 홀수인지 짝수인지 판별하는 방법은?\n",
        "- 문제4: 2x2x2x5x5x5x5x3x3x3x3을 제곱형태로 나타낸 후 그 결과 출력하기"
      ]
    },
    {
      "cell_type": "code",
      "execution_count": null,
      "id": "7a853d89",
      "metadata": {
        "colab": {
          "base_uri": "https://localhost:8080/"
        },
        "id": "7a853d89",
        "outputId": "d1aee53d-9a02-4e31-e468-b145f4c61e24"
      },
      "outputs": [
        {
          "output_type": "stream",
          "name": "stdout",
          "text": [
            "10+3*4= 22\n",
            "15 * 1300000 = 19500000\n",
            "    15     * 1300000 = 19500000\n",
            "73 홀수\n",
            "2x2x2x5x5x5x5x3x3x3x3= 405000\n",
            "2x2x2x5x5x5x5x3x3x3x3= 405000\n"
          ]
        }
      ],
      "source": [
        "#문제1: 10 + 3 x 4 결과 출력\n",
        "print('10+3*4=', 10+3*4)\n",
        "\n",
        "#문제2: 아이폰 15대를 가지고 있다. 아이폰의 가격이 130만원 일 때 총 금액은?\n",
        "iphone=15\n",
        "price=1300000\n",
        "print('%d * %d = %d'% (iphone, price, iphone*price))\n",
        "print(f'{iphone:^10} * {price} = {iphone*price}')\n",
        "\n",
        "#문제3: 주어진 자연수가 홀수인지 짝수인지 판별하는 방법은?\n",
        "import random\n",
        "number = random.randint(1, 100)  # 1~100까지의 임의의 정수\n",
        "if number%2 ==0 :   #number를 2로 나눠서 나머지가 0인 것: 짝수\n",
        "    print(number, '짝수')\n",
        "else:\n",
        "    print(number, '홀수')\n",
        "\n",
        "#문제4: 2x2x2x5x5x5x5x3x3x3x3을 제곱형태로 나타낸 후 그 결과 출력하기\n",
        "print('2x2x2x5x5x5x5x3x3x3x3=', 2*2*2*5*5*5*5*3*3*3*3)\n",
        "print('2x2x2x5x5x5x5x3x3x3x3=', 2**3 * 5**4 * 3**4)\n",
        "\n"
      ]
    },
    {
      "cell_type": "markdown",
      "id": "65487a5c",
      "metadata": {
        "id": "65487a5c"
      },
      "source": [
        "### 변수\n",
        "데이터를 저장할 수 있는 공간\n",
        "\n",
        "**변수 사용 시 주의사항**\n",
        "- 첫 글자는 영문, 혹은 _(언더바)로 시작할 것 (한글도 가능)\n",
        "- 영문자, 숫자, _(언더바)만으로 구성할 것 (공백문자 불가)\n",
        "- 대문자, 소문자 구분해서 사용할 것\n",
        "- 예약어는 피할 것"
      ]
    },
    {
      "cell_type": "code",
      "execution_count": null,
      "id": "c86ab944",
      "metadata": {
        "id": "c86ab944"
      },
      "outputs": [],
      "source": []
    },
    {
      "cell_type": "markdown",
      "id": "6b43e39d",
      "metadata": {
        "id": "6b43e39d"
      },
      "source": [
        "### 파이썬 자료형"
      ]
    },
    {
      "cell_type": "code",
      "execution_count": null,
      "id": "bdcd0ef1",
      "metadata": {
        "id": "bdcd0ef1"
      },
      "outputs": [],
      "source": [
        "d1 = 123\n",
        "d2 = '123'\n",
        "d3 = [123]\n",
        "d4 = (123,)\n",
        "d5 = {'key':123}\n",
        "d6 = {123}\n",
        "d7 = True\n",
        "\n",
        "print(f'데이터 {d1}의 자료형: {type(d1)}')\n",
        "print(f'데이터 {d2}의 자료형: {type(d2)}')\n",
        "print(f'데이터 {d3}의 자료형: {type(d3)}')\n",
        "print(f'데이터 {d4}의 자료형: {type(d4)}')\n",
        "print(f'데이터 {d5}의 자료형: {type(d5)}')\n",
        "print(f'데이터 {d6}의 자료형: {type(d6)}')\n",
        "print(f'데이터 {d7}의 자료형: {type(d7)}')"
      ]
    },
    {
      "cell_type": "markdown",
      "id": "7cda86df",
      "metadata": {
        "id": "7cda86df"
      },
      "source": [
        "### 표준 입력과 출력\n",
        "- 키보드로부터 입력을 받는 함수( input() )을 표준 입력함수라 한다.\n",
        "- 화면에 출력하는 함수( print() )를 표준 출력함수라 한다."
      ]
    },
    {
      "cell_type": "code",
      "execution_count": null,
      "id": "00ff5c37",
      "metadata": {
        "id": "00ff5c37"
      },
      "outputs": [],
      "source": [
        "# 표준 입력(키보드로부터 데이터를 입력 받는 것)\n",
        "# a = input('숫자를 입력하세요: ')\n",
        "# a = float(a)\n",
        "a = float( input('숫자를 입력하세요: '))\n",
        "\n",
        "\n",
        "# 표준 출력\n",
        "print(f'변수 a의 값: {a}, {type(a)}')\n"
      ]
    },
    {
      "cell_type": "markdown",
      "id": "18bc822a",
      "metadata": {
        "id": "18bc822a"
      },
      "source": [
        "#### 문자열 데이터를 숫자(정수)로 변환하기"
      ]
    },
    {
      "cell_type": "code",
      "execution_count": null,
      "id": "aaf9890f",
      "metadata": {
        "id": "aaf9890f"
      },
      "outputs": [],
      "source": [
        "# 문자열 데이터를 숫자(정수)로 변환하기\n",
        "\n"
      ]
    },
    {
      "cell_type": "markdown",
      "id": "c0436ecb",
      "metadata": {
        "id": "c0436ecb"
      },
      "source": [
        "#### 다양한 변수 출력 방법"
      ]
    },
    {
      "cell_type": "code",
      "execution_count": null,
      "id": "7d2e160d",
      "metadata": {
        "scrolled": true,
        "colab": {
          "base_uri": "https://localhost:8080/"
        },
        "id": "7d2e160d",
        "outputId": "f46a41bf-4f29-44e3-e2b5-6732ef14e959"
      },
      "outputs": [
        {
          "name": "stdout",
          "output_type": "stream",
          "text": [
            "키보드로 숫자를 입력해 주세요 5\n"
          ]
        }
      ],
      "source": [
        "a = input('키보드로 숫자를 입력해 주세요 ')\n",
        "\n",
        "# 출력방법\n"
      ]
    },
    {
      "cell_type": "markdown",
      "id": "7ea5c22e",
      "metadata": {
        "id": "7ea5c22e"
      },
      "source": [
        "### [실습문제] : 계산기 프로그램 만들기\n",
        "정수 2개를 키보드로 각각 입력 받아 아래와 같이 덧셈, 뺄셈, 곱셈, 몫, 나머지를\n",
        "\n",
        "\n",
        "출력하는 프로그램을 만들어 보세요.\n"
      ]
    },
    {
      "cell_type": "code",
      "execution_count": null,
      "id": "fa128ef7",
      "metadata": {
        "colab": {
          "base_uri": "https://localhost:8080/"
        },
        "id": "fa128ef7",
        "outputId": "5de739f5-40a7-4d4a-dfe2-f6e8d27f2019"
      },
      "outputs": [
        {
          "output_type": "stream",
          "name": "stdout",
          "text": [
            "첫번째 숫자: 100\n",
            "두번째 숫자: 30\n",
            "--------------------------------------------------\n",
            "덧셈: 100 + 30 = 130\n",
            "뺄셈: 100 - 30 = 70\n",
            "곱셈: 100 * 30 = 3000\n",
            "나눗셈: 100 / 30 = 3.333333\n"
          ]
        }
      ],
      "source": [
        "num1 = int( input('첫번째 숫자: ') )\n",
        "num2 = int( input('두번째 숫자: ') )\n",
        "print('-' * 50)   # * : 문자열 반복\n",
        "print('덧셈: %d + %d = %d' % (num1, num2, num1+num2))\n",
        "print('뺄셈: %d - %d = %d' % (num1, num2, num1-num2))\n",
        "print('곱셈: %d * %d = %d' % (num1, num2, num1*num2))\n",
        "print('나눗셈: %d / %d = %f' % (num1, num2, num1/num2))"
      ]
    },
    {
      "cell_type": "markdown",
      "id": "ca1816b6",
      "metadata": {
        "id": "ca1816b6"
      },
      "source": [
        "- f'string' 함수를 이용해 출력하기"
      ]
    },
    {
      "cell_type": "code",
      "execution_count": null,
      "id": "8b486e15",
      "metadata": {
        "id": "8b486e15"
      },
      "outputs": [],
      "source": [
        "num1 = int( input('첫번째 숫자: ') )\n",
        "num2 = int( input('두번째 숫자: ') )\n",
        "print('-' * 50)   # * : 문자열 반복\n",
        "print(f'덧셈: {num1} + {num2} = {num1+num2}' )\n",
        "print(f'뺄셈:  {num1} - {num2} = {num1-num2}' )\n",
        "print(f'곱셈:  {num1} * {num2} = {num1*num2}'  )\n",
        "print(f'나눗셈:  {num1} / {num2} = {num1/num2:.2f}' )\n",
        "\n"
      ]
    },
    {
      "cell_type": "markdown",
      "id": "157b41ef",
      "metadata": {
        "id": "157b41ef"
      },
      "source": [
        "### [실습문제] : 시간 계산 프로그램\n",
        "속력과 거리를 입력 받아 시간을 계산하여 출력하는 프로그램을 만드세요!\n",
        "- 시간 = 거리 / 속력"
      ]
    },
    {
      "cell_type": "code",
      "execution_count": null,
      "id": "93102e01",
      "metadata": {
        "id": "93102e01"
      },
      "outputs": [],
      "source": [
        "velocity = int( input('속력를 입력해 주세요(km/h) : '))\n",
        "distance = int( input('거리를 입력해 주세요(km) : '))\n",
        "\n",
        "print('-' * 50)   # * : 문자열 반복\n",
        "print(f'속력: {velocity} km/h')\n",
        "print(f'거리: {distance} km')\n",
        "print(f'시간: {distance/velocity} h')\n"
      ]
    },
    {
      "cell_type": "code",
      "source": [
        "velocity = input('속력를 입력해 주세요(km/h) : ')\n",
        "distance = input('거리를 입력해 주세요(km) : ')\n",
        "time = eval(f'{distance}/{velocity}')\n",
        "print(f'걸린 시간은 {time}h = {distance}km/{velocity}km/h')\n",
        "\n"
      ],
      "metadata": {
        "colab": {
          "base_uri": "https://localhost:8080/"
        },
        "id": "LUoAu2txcQoJ",
        "outputId": "556b7e77-e150-4e9d-fab3-63ec9f24da82"
      },
      "id": "LUoAu2txcQoJ",
      "execution_count": null,
      "outputs": [
        {
          "output_type": "stream",
          "name": "stdout",
          "text": [
            "속력를 입력해 주세요(km/h) : 100\n",
            "거리를 입력해 주세요(km) : 950\n",
            "걸린 시간은 9.5h = 950km/100km/h\n"
          ]
        }
      ]
    },
    {
      "cell_type": "markdown",
      "id": "89f48168",
      "metadata": {
        "id": "89f48168"
      },
      "source": [
        "- eval()함수 사용하여 문자열을 계산할 수 있다"
      ]
    },
    {
      "cell_type": "code",
      "execution_count": null,
      "id": "39dab77c",
      "metadata": {
        "colab": {
          "base_uri": "https://localhost:8080/"
        },
        "id": "39dab77c",
        "outputId": "eb2bd046-bcc5-4f81-cd86-6cc3bc25adb7"
      },
      "outputs": [
        {
          "output_type": "execute_result",
          "data": {
            "text/plain": [
              "70.0"
            ]
          },
          "metadata": {},
          "execution_count": 32
        }
      ],
      "source": [
        "# eval()함수 사용\n",
        "eval('10+40*3/2')\n"
      ]
    },
    {
      "cell_type": "markdown",
      "id": "85b8c542",
      "metadata": {
        "id": "85b8c542"
      },
      "source": [
        "### 내장 수학 함수\n",
        "- 파이썬 내장 함수 https://docs.python.org/ko/3.10/library/functions.html"
      ]
    },
    {
      "cell_type": "code",
      "execution_count": null,
      "id": "2bfba8be",
      "metadata": {
        "scrolled": true,
        "colab": {
          "base_uri": "https://localhost:8080/"
        },
        "id": "2bfba8be",
        "outputId": "855f2c88-a4aa-491a-c33e-0bc462a3fbc7"
      },
      "outputs": [
        {
          "output_type": "stream",
          "name": "stdout",
          "text": [
            "원주율: 3.141592653589793\n",
            "절대값: 3.14\n",
            "반올림: -3\n",
            "올림  : -3\n",
            "내림  : -4\n",
            "제곱  : 256.0\n",
            "제곱근: 2.0\n",
            "로그  : 2.302585092994046\n"
          ]
        }
      ],
      "source": [
        "import math\n",
        "\n",
        "a = -3.14\n",
        "\n",
        "\n",
        "print(f'원주율: {math.pi }')\n",
        "print(f'절대값: {abs(a) }')\n",
        "print(f'반올림: {round(a)  }')\n",
        "print(f'올림  : {math.ceil(a) }')\n",
        "print(f'내림  : {math.floor(a) }')\n",
        "print(f'제곱  : {math.pow(2, 8) }')\n",
        "print(f'제곱근: {math.sqrt(4) }')\n",
        "print(f'로그  : {math.log(10) }')"
      ]
    },
    {
      "cell_type": "markdown",
      "id": "c8147e87",
      "metadata": {
        "id": "c8147e87"
      },
      "source": [
        "### [실습문제]: 수학 함수 사용하여 계산하기\n",
        "- 문제1: 반지름이 4인 원의 넓이 출력\n",
        "- 문제2: 3.14 곱하가 2 나누기 7의 값을 반올림하여 계산 결과 출력\n",
        "- 문제3: 원주율을 3.14로 만들어서 반지름이 4인 원의 둘레의 길이 출력"
      ]
    },
    {
      "cell_type": "code",
      "execution_count": null,
      "id": "45ed86c9",
      "metadata": {
        "id": "45ed86c9"
      },
      "outputs": [],
      "source": [
        "#문제1: 반지름이 4인 원의 넓이 출력\n",
        "print(f'반지름이 4인 원의 넓이 출력: {math.pi * 4**2}')\n",
        "\n",
        "#문제2: 3.14 곱하가 2 나누기 7의 값을 반올림하여 계산 결과 출력\n",
        "print(round(3.14 * 2 / 7))\n",
        "\n",
        "#문제3: 원주율을 3.14로 만들어서 반지름이 4인 원의 둘레의 길이 출력\n",
        "print(2 * 3.14 * 4)\n"
      ]
    },
    {
      "cell_type": "code",
      "source": [
        "#정수 a를 입력받아, a + aa + aaa 의 결과 값을 구하는 프로그램을 작성하세요.\n",
        "\n",
        "a =input('정수를 입력하세요: ')\n",
        "result = f\"{a}+{a*2}+{a*3}\"\n",
        "print(f'{result} = {eval(result)}')\n"
      ],
      "metadata": {
        "colab": {
          "base_uri": "https://localhost:8080/"
        },
        "id": "NKjVUoupnBlZ",
        "outputId": "d50dfd03-3d66-4758-828c-beb0c0500a92"
      },
      "id": "NKjVUoupnBlZ",
      "execution_count": null,
      "outputs": [
        {
          "output_type": "stream",
          "name": "stdout",
          "text": [
            "정수를 입력하세요: 3\n",
            "3+33+333 = 369\n"
          ]
        }
      ]
    },
    {
      "cell_type": "code",
      "source": [
        "a=int(input('정수입력: '))\n",
        "print(a+int(str(a)*2)+int(str(a)*3))"
      ],
      "metadata": {
        "colab": {
          "base_uri": "https://localhost:8080/"
        },
        "id": "uQ5yThVqs3Fu",
        "outputId": "8397ebca-a846-4016-acf9-d2dc11a2e0c9"
      },
      "id": "uQ5yThVqs3Fu",
      "execution_count": null,
      "outputs": [
        {
          "output_type": "stream",
          "name": "stdout",
          "text": [
            "정수입력: 6\n",
            "738\n"
          ]
        }
      ]
    },
    {
      "cell_type": "markdown",
      "id": "12be6789",
      "metadata": {
        "id": "12be6789"
      },
      "source": [
        "## 2-2.문자와 문자열"
      ]
    },
    {
      "cell_type": "markdown",
      "id": "90255097",
      "metadata": {
        "id": "90255097"
      },
      "source": [
        "#### 문자와 문자열 변환"
      ]
    },
    {
      "cell_type": "code",
      "execution_count": null,
      "id": "a52f17d8",
      "metadata": {
        "id": "a52f17d8"
      },
      "outputs": [],
      "source": [
        "# 문자 --> 숫자(정수) 로 변환 : ord() 함수 사용\n",
        "print( ord('A') )\n",
        "print( ord('!') )\n",
        "print( ord('가') )"
      ]
    },
    {
      "cell_type": "code",
      "execution_count": null,
      "id": "88bbb733",
      "metadata": {
        "id": "88bbb733"
      },
      "outputs": [],
      "source": [
        "# 숫자(정수) --> 문자 로 변환 : chr() 함수 사용\n",
        "print( chr(65) )\n",
        "print( chr(66) )\n",
        "print( chr(97) )\n",
        "print( chr(98) )\n",
        "print( chr(44032) )\n",
        "print( chr(44033) )"
      ]
    },
    {
      "cell_type": "code",
      "execution_count": null,
      "id": "1cbfb609",
      "metadata": {
        "id": "1cbfb609"
      },
      "outputs": [],
      "source": [
        "# 문자 --> 숫자 --> 이진수 로 변환\n",
        "for c in '파이썬':\n",
        "    숫자변환 = ord(c)              # unicode\n",
        "    이진수변환 = bin(숫자변환)     # 16진수 binarycode\n",
        "    print( 이진수변환, end = ' ')  # 한 줄로 표현하기"
      ]
    },
    {
      "cell_type": "code",
      "execution_count": null,
      "id": "d9577a3f",
      "metadata": {
        "id": "d9577a3f"
      },
      "outputs": [],
      "source": [
        "for c in '파이썬':\n",
        "    # 이진수에서 앞'0b'를 없애기 위해 format() 함수 사용할 수 있다.\n",
        "    print( format(ord(c), 'b'), end = ' ')  # 한 줄로 표현하기"
      ]
    },
    {
      "cell_type": "markdown",
      "id": "c87a0c03",
      "metadata": {
        "id": "c87a0c03"
      },
      "source": [
        "### 문자열 따옴표로 지정"
      ]
    },
    {
      "cell_type": "markdown",
      "id": "e343167b",
      "metadata": {
        "id": "e343167b"
      },
      "source": [
        "#### 큰 따옴표  or 작은 따옴표로 지정한다"
      ]
    },
    {
      "cell_type": "code",
      "execution_count": null,
      "id": "fae54804",
      "metadata": {
        "colab": {
          "base_uri": "https://localhost:8080/"
        },
        "id": "fae54804",
        "outputId": "2288b726-a85c-4a14-d205-3d4b443465d0"
      },
      "outputs": [
        {
          "output_type": "stream",
          "name": "stdout",
          "text": [
            "Hello\n",
            "Hello\n",
            "Hello 'world\n",
            "Hello \"world\n",
            " \"Yes, I can!\" \n"
          ]
        }
      ],
      "source": [
        "print('Hello')\n",
        "print(\"Hello\")\n",
        "print(\"Hello 'world\")\n",
        "print('Hello \"world')\n",
        "print(' \"Yes, I can!\" ')"
      ]
    },
    {
      "cell_type": "markdown",
      "id": "66f9d31e",
      "metadata": {
        "id": "66f9d31e"
      },
      "source": [
        "#### 따옴표 세 개 사용 : 여러 줄로 표현할 때"
      ]
    },
    {
      "cell_type": "code",
      "execution_count": null,
      "id": "48fe4ca0",
      "metadata": {
        "colab": {
          "base_uri": "https://localhost:8080/"
        },
        "id": "48fe4ca0",
        "outputId": "6354c0c7-7216-43e2-c0e8-0546b64e9b2a"
      },
      "outputs": [
        {
          "output_type": "stream",
          "name": "stdout",
          "text": [
            "박씨가 소리질렀다.\n",
            "도둑이야!\n"
          ]
        }
      ],
      "source": [
        "a = '''박씨가 소리질렀다.\n",
        "도둑이야!'''\n",
        "print(a)"
      ]
    },
    {
      "cell_type": "code",
      "execution_count": null,
      "id": "b32c2a51",
      "metadata": {
        "scrolled": true,
        "colab": {
          "base_uri": "https://localhost:8080/"
        },
        "id": "b32c2a51",
        "outputId": "478d6c70-b3bd-4ce8-ca52-769ad1fd160c"
      },
      "outputs": [
        {
          "output_type": "stream",
          "name": "stdout",
          "text": [
            "OOO카페 메뉴판\n",
            "- 아메리카노:  3000원\n",
            "- 카페라테:     4000원\n",
            "- 카페모카:     5000원\n"
          ]
        }
      ],
      "source": [
        "menu = '''OOO카페 메뉴판\n",
        "- 아메리카노:  3000원\n",
        "- 카페라테:     4000원\n",
        "- 카페모카:     5000원'''\n",
        "print(menu)"
      ]
    },
    {
      "cell_type": "markdown",
      "id": "fb8a7c56",
      "metadata": {
        "id": "fb8a7c56"
      },
      "source": [
        "### [실습] 주문받아 출력하기"
      ]
    },
    {
      "cell_type": "code",
      "execution_count": null,
      "id": "3a4d57f5",
      "metadata": {
        "colab": {
          "base_uri": "https://localhost:8080/"
        },
        "id": "3a4d57f5",
        "outputId": "89ca6617-f24e-49e3-bc52-c67b48e896d5"
      },
      "outputs": [
        {
          "output_type": "stream",
          "name": "stdout",
          "text": [
            "카페주문 프로그램입니다.\n",
            "--------------------------------------------------\n",
            "OOO카페 메뉴판\n",
            "- 아메리카노:  3000원\n",
            "- 카페라테:     4000원\n",
            "- 카페모카:     5000원\n",
            "주문하실 음료를 입력하세요:아메리카노\n",
            "주문하신 음료 [coffee]가 나왔습니다. 맛있게 드세요~\n"
          ]
        }
      ],
      "source": [
        "# 주문받아 출력하기\n",
        "print('카페주문 프로그램입니다.')\n",
        "print('-'*50)\n",
        "print(menu)\n",
        "\n",
        "coffee = input('주문하실 음료를 입력하세요:')\n",
        "print(f'주문하신 음료 [coffee]가 나왔습니다. 맛있게 드세요~')\n",
        "\n"
      ]
    },
    {
      "cell_type": "markdown",
      "id": "38c40628",
      "metadata": {
        "id": "38c40628"
      },
      "source": [
        "### 문자열 연산\n",
        "- (+): 문자열 연결하기"
      ]
    },
    {
      "cell_type": "code",
      "execution_count": null,
      "id": "6af90aaf",
      "metadata": {
        "id": "6af90aaf"
      },
      "outputs": [],
      "source": [
        "\n"
      ]
    },
    {
      "cell_type": "markdown",
      "id": "a27ee4d1",
      "metadata": {
        "id": "a27ee4d1"
      },
      "source": [
        "- (*) : 반복의 의미"
      ]
    },
    {
      "cell_type": "code",
      "execution_count": null,
      "id": "229965c2",
      "metadata": {
        "colab": {
          "base_uri": "https://localhost:8080/"
        },
        "id": "229965c2",
        "outputId": "a4450c85-2adb-4a4f-c692-96bd5ad24c6d"
      },
      "outputs": [
        {
          "output_type": "stream",
          "name": "stdout",
          "text": [
            "안녕하세요안녕하세요안녕하세요\n"
          ]
        }
      ],
      "source": [
        "print('안녕하세요'*3)"
      ]
    },
    {
      "cell_type": "markdown",
      "id": "2d2a3e0e",
      "metadata": {
        "id": "2d2a3e0e"
      },
      "source": [
        "### [실습문제] 문자열 출력하기\n",
        "- 문제1: 화면에   Mary’s cosmetics   출력\n",
        "- 문제2: 화면에  박씨가 소리질렀다. “도둑이야!”.  출력\n",
        "- 문제3: 다음 코드 실행시켜서 \\t와 \\n의 역할 확인하기 <br>\n",
        "print(\"안녕하세요.\\n오늘\\t날씨가\\t\\t좋습니다.\")    "
      ]
    },
    {
      "cell_type": "code",
      "execution_count": null,
      "id": "36f87e66",
      "metadata": {
        "colab": {
          "base_uri": "https://localhost:8080/"
        },
        "id": "36f87e66",
        "outputId": "9b910220-afaf-40b8-8244-81bc8229f839"
      },
      "outputs": [
        {
          "output_type": "stream",
          "name": "stdout",
          "text": [
            "Mary's cosmetics\n",
            "화면에 박씨가 소리질렀다. \"도둑이야!\" \n",
            "안녕하세요.\n",
            "오늘\t날씨가\t\t좋습니다.\n"
          ]
        }
      ],
      "source": [
        "#문제1: 화면에 Mary’s cosmetics 출력\n",
        "print('Mary\\'s cosmetics')\n",
        "#문제2: 화면에 박씨가 소리질렀다. “도둑이야!”. 출력\n",
        "print('화면에 박씨가 소리질렀다. \"도둑이야!\" ')\n",
        "#문제3: 다음 코드 실행시켜서 \\t와 \\n의 역할 확인하기\n",
        "print(\"안녕하세요.\\n오늘\\t날씨가\\t\\t좋습니다.\")"
      ]
    },
    {
      "cell_type": "markdown",
      "id": "13245f26",
      "metadata": {
        "id": "13245f26"
      },
      "source": [
        "-------------------"
      ]
    },
    {
      "cell_type": "markdown",
      "id": "020d1cc5",
      "metadata": {
        "id": "020d1cc5"
      },
      "source": [
        "## 2-3.문자열 인덱싱과 슬라이싱"
      ]
    },
    {
      "cell_type": "code",
      "execution_count": null,
      "id": "9c875a9b",
      "metadata": {
        "id": "9c875a9b"
      },
      "outputs": [],
      "source": [
        "a = '우리는 민족중흥의 역사적 사명을 띠고 이 땅에 태어났다.'\n",
        "print( )"
      ]
    },
    {
      "cell_type": "code",
      "execution_count": null,
      "id": "e50df3b3",
      "metadata": {
        "id": "e50df3b3"
      },
      "outputs": [],
      "source": [
        "fruits = 'orange'\n",
        "print( )\n"
      ]
    },
    {
      "cell_type": "code",
      "source": [
        "기사 = '''목요일인 17일 전국 대부분 지역에서 체감온도가 33도 이상으로 오르면서 무덥겠다.\n",
        "전남 동부·경상권에 새벽까지, 경기 내륙·강원 북부 내륙·강원 남부 내륙·강원 산지·충청권·전남권·전북 동부·경북권·경남 내륙·제주에 오후부터 저녁까지 소나기가 내리는 곳이 있겠다.\n",
        "예상 강수량은 전남 동부·경상권 5∼30㎜, 경기 내륙·강원 북부 내륙·강원 남부 내륙·강원 산지·충청권·전남권·제주 5∼40㎜, 전라 동부·경북권·경남 내륙 5∼60㎜다.\n",
        "이날 오전 5시 현재 주요 지역의 기온은 서울 24.7도, 인천 24.5도, 수원 22.6도, 춘천 23.6도, 강릉 22.2도, 청주 24.7도, 대전 22.7도, 전주 24.2도, 광주 24.5도, 제주 26.2도, 대구 24.2도, 부산 24.6도, 울산 23.1도, 창원 25.4도 등이다.\n",
        "낮 최고기온은 26∼32도로 예보됐다.\n",
        "미세먼지 농도는 원활한 대기 확산으로 전 권역이 '좋음'∼'보통' 수준을 보이겠다.\n",
        "해안에는 안개가 짙게 끼는 곳이 있겠으니 안전에 유의해야 한다.\n",
        "바다의 물결은 동해 앞바다에서 0.5∼2.0m, 서해 앞바다에서 0.5m, 남해 앞바다에서 0.5∼1.5m로 일겠다.\n",
        "안쪽 먼바다(해안선에서 약 200㎞ 내의 먼바다)의 파고는 동해 0.5∼2.5m, 서해 0.5∼1.0m, 남해 0.5∼1.5m로 예측된다.'''\n",
        "\n",
        "print( 기사.count('기온')) #기사 '기온'단어의 개수\n",
        "print(기사.find('오늘')) # '오늘' 단어의 위치(인덱스)\n",
        "\n",
        "s=input('문자열을 입력하세요: ')\n",
        "print(s[::-1])\n"
      ],
      "metadata": {
        "colab": {
          "base_uri": "https://localhost:8080/"
        },
        "id": "1V_T8ExsKFYv",
        "outputId": "9090fd21-e6eb-4f56-968d-53ce5dbcf231"
      },
      "id": "1V_T8ExsKFYv",
      "execution_count": null,
      "outputs": [
        {
          "output_type": "stream",
          "name": "stdout",
          "text": [
            "2\n",
            "-1\n",
            "문자열을 입력하세요: 사랑해요 파이썬~~~~\n",
            "~~~~썬이파 요해랑사\n"
          ]
        }
      ]
    },
    {
      "cell_type": "markdown",
      "source": [
        "###[실습문제] 파일명과 확장자 분리하기"
      ],
      "metadata": {
        "id": "2syBhT0UPyfM"
      },
      "id": "2syBhT0UPyfM"
    },
    {
      "cell_type": "code",
      "source": [
        "fname=input('파일을 입력하세요: ')\n",
        "print(f'입력한 파일: {fname}')\n",
        "\n",
        "a = fname.split('.')\n",
        "print(f'파일명: {a[0]}, 확장자: {a[1]}')\n"
      ],
      "metadata": {
        "colab": {
          "base_uri": "https://localhost:8080/"
        },
        "id": "D87We_tSPVBt",
        "outputId": "132f0e23-b784-46b3-d1d1-ea421bb19021"
      },
      "id": "D87We_tSPVBt",
      "execution_count": null,
      "outputs": [
        {
          "output_type": "stream",
          "name": "stdout",
          "text": [
            "파일을 입력하세요: smile.ipynb\n",
            "입력한 파일: smile.ipynb\n",
            "파일명: smile, 확장자: ipynb\n"
          ]
        }
      ]
    },
    {
      "cell_type": "markdown",
      "id": "1aecf2d0",
      "metadata": {
        "id": "1aecf2d0"
      },
      "source": [
        "---------------------------"
      ]
    },
    {
      "cell_type": "markdown",
      "id": "0f48d7cf",
      "metadata": {
        "id": "0f48d7cf"
      },
      "source": [
        "## 2-4.변수 활용"
      ]
    },
    {
      "cell_type": "markdown",
      "id": "d26c5d6e",
      "metadata": {
        "id": "d26c5d6e"
      },
      "source": [
        "### [실습문제]: 지불할 음식 총 가격 계산하기\n",
        "- 음식가격:  4,450 원\n",
        "- 세금: 6.75%\n",
        "- 팁: 15%\n",
        "1. meal 변수를 선언하고 값을 4450으로 지정하세요.\n",
        "2. tax 변수를 생성하고 값으로 6.75%를 소수점 형태로 지정하세요.\n",
        "3. tip 변수를 생성하고 값으로 15%를 소수점 형태로 지정하세요.\n",
        "4. meal의 변수값에 세금을 곱해 meal 변수에 지정하세요.\n",
        "5. 음식값에 tip을 더해 total 변수에 지정하세요.\n",
        "6. total 변수 값을 출력하세요."
      ]
    },
    {
      "cell_type": "code",
      "execution_count": null,
      "id": "933828b3",
      "metadata": {
        "colab": {
          "base_uri": "https://localhost:8080/"
        },
        "id": "933828b3",
        "outputId": "5e7bc16b-243b-44fb-e687-19aae917b2f1"
      },
      "outputs": [
        {
          "output_type": "stream",
          "name": "stdout",
          "text": [
            "순수 세금: 300.375\n",
            "팁 금액: 712.55625\n",
            "내가 지불해야 할 총 금액: 5462.93\n"
          ]
        }
      ],
      "source": [
        "meal = 4450    # 1.음식가격\n",
        "tax = 0.0675   # 2.세금\n",
        "tip = 0.15     # 3.팁\n",
        "print(f'순수 세금: {meal * tax}')\n",
        "meal = meal + meal * tax\n",
        "total = meal + meal*tip\n",
        "\n",
        "print(f'팁 금액: {meal*tip}')\n",
        "print(f'내가 지불해야 할 총 금액: {round(total, 2)}')\n"
      ]
    },
    {
      "cell_type": "markdown",
      "id": "a4fa74c9",
      "metadata": {
        "id": "a4fa74c9"
      },
      "source": [
        "### [실습문제]: 섭씨온도를 화씨온도로 변환하기\n",
        "- 섭씨 온도 (Celsius): 1 atm에서의 물의 어는점을 0도, 끓는점을 100도로 정한 온도 체계. (°C)\n",
        "\n",
        "\n",
        "- 화씨 온도 (Fahrenheit): 물이 어는 온도는 32도, 물이 끓는 온도는 212도. 180등분. (°F)\n",
        "- 섭씨온도(℃) = (5 / 9) × (℉ - 32)  # Celsius\n",
        "- 화씨온도(℉) = (9 / 5) × ℃ + 32    # Fahrenheit"
      ]
    },
    {
      "cell_type": "code",
      "execution_count": null,
      "id": "d65f3301",
      "metadata": {
        "scrolled": true,
        "colab": {
          "base_uri": "https://localhost:8080/"
        },
        "id": "d65f3301",
        "outputId": "47eb7c11-5a1b-4d49-987c-1bbb9921765d"
      },
      "outputs": [
        {
          "output_type": "stream",
          "name": "stdout",
          "text": [
            "온도를 입력해 주세요(화씨): 32.5\n",
            "화씨 온도 32.5℃를 섭씨 온도로 변환하면 90.5℉!\n"
          ]
        }
      ],
      "source": [
        "# c_temp = input()   #키보드로부터 입력을 받는 함수: input()\n",
        "# c_temp = int(c_temp)  # 정수로 변환: int()\n",
        "# print(c_temp, type(c_temp) )\n",
        "\n",
        "c_temp = float(input('온도를 입력해 주세요(화씨): '))\n",
        "f_temp = (9 / 5) * c_temp + 32\n",
        "print(f'화씨 온도 {c_temp}℃를 섭씨 온도로 변환하면 {f_temp}℉!')"
      ]
    },
    {
      "cell_type": "markdown",
      "id": "a57cbf87",
      "metadata": {
        "id": "a57cbf87"
      },
      "source": [
        "-------"
      ]
    },
    {
      "cell_type": "markdown",
      "id": "f0265f78",
      "metadata": {
        "id": "f0265f78"
      },
      "source": [
        "## 2-5.연산자"
      ]
    },
    {
      "cell_type": "markdown",
      "id": "bff8051d",
      "metadata": {
        "id": "bff8051d"
      },
      "source": [
        "### [실습문제]: 동전 교환 프로그램 만들기"
      ]
    },
    {
      "cell_type": "code",
      "execution_count": null,
      "id": "105db988",
      "metadata": {
        "colab": {
          "base_uri": "https://localhost:8080/"
        },
        "id": "105db988",
        "outputId": "c4006f96-2c47-4024-caf3-44ce7f2ab123"
      },
      "outputs": [
        {
          "output_type": "stream",
          "name": "stdout",
          "text": [
            "---동전교환기 프로그램을 작동합니다.---\n",
            "동전으로 교환할 금액을 입력하세요: 4321\n",
            "------------------------------\n",
            "500원짜리 ==>' 8개\n",
            "100원짜리 ==> 3개\n",
            "50원짜리 ==> 0개\n",
            "10원짜리 ==> 2개\n",
            "잔돈 ==> 1원\n"
          ]
        }
      ],
      "source": [
        "# 1. 키보드로부터 금액 입력 받기\n",
        "print('---동전교환기 프로그램을 작동합니다.---')\n",
        "money = int( input(\"동전으로 교환할 금액을 입력하세요: \"))\n",
        "print('-'*30)   #2. 구분선 출력하기\n",
        "\n",
        "print(f\"500원짜리 ==>' {money//500}개\")\n",
        "money = money%500\n",
        "print(f\"100원짜리 ==> {money//100}개\")\n",
        "money%=100\n",
        "print(f\"50원짜리 ==> {money//50}개\")\n",
        "money%=50\n",
        "print(f\"10원짜리 ==> {money//10}개\")\n",
        "money%=10\n",
        "print(f\"잔돈 ==> {money}원\")\n",
        "\n",
        "\n"
      ]
    },
    {
      "cell_type": "markdown",
      "id": "f359d4a1",
      "metadata": {
        "id": "f359d4a1"
      },
      "source": [
        "-----------------------------------------"
      ]
    },
    {
      "cell_type": "markdown",
      "id": "d8c018ca",
      "metadata": {
        "id": "d8c018ca"
      },
      "source": [
        "## 2-6.리스트(List)\n",
        "- 리스트는 여러 개의 데이터 값을 하나의 변수에 담을 수 있는 데이터 구조\n",
        "- 리스트는 순서(인덱스)가 있고 데이터를 수정, 삭제, 추가 가능하다.\n",
        "- 대괄호로 표현되고 내부 원소는 ,(쉼표)로 구분됨"
      ]
    },
    {
      "cell_type": "markdown",
      "id": "693f2484",
      "metadata": {
        "id": "693f2484"
      },
      "source": [
        "### 리스트 생성"
      ]
    },
    {
      "cell_type": "code",
      "execution_count": null,
      "id": "a1b79606",
      "metadata": {
        "id": "a1b79606"
      },
      "outputs": [],
      "source": [
        "a = list()\n",
        "a = []\n",
        "a = [1,2,3]\n",
        "a = ['I', 'Love', 'Python']\n",
        "b = [1,2, '사랑해요', 'Python']\n",
        "b = ['a', '1', 1, [2,3], -4]\n",
        "a = [1,2,['a','b',['사랑해', '파이썬']], 3]"
      ]
    },
    {
      "cell_type": "code",
      "execution_count": null,
      "id": "df23f6cf",
      "metadata": {
        "colab": {
          "base_uri": "https://localhost:8080/"
        },
        "id": "df23f6cf",
        "outputId": "de6c9555-8ec8-4fcd-ff4d-b4451d97fd60"
      },
      "outputs": [
        {
          "output_type": "stream",
          "name": "stdout",
          "text": [
            "[1, 2, ['a', 'b', ['사랑해', '파이썬']], 3]\n",
            "['a', '1', 1, [2, 3], -4]\n"
          ]
        }
      ],
      "source": [
        "print(a)\n",
        "print(b)"
      ]
    },
    {
      "cell_type": "code",
      "source": [
        "#range() : 정수를 순차적으로 만들어주는 함수\n",
        "print(list(range(10)))"
      ],
      "metadata": {
        "colab": {
          "base_uri": "https://localhost:8080/"
        },
        "id": "S_VsK5dLgHOt",
        "outputId": "1499f5c1-e5ed-4316-c9b6-b322722a4530"
      },
      "id": "S_VsK5dLgHOt",
      "execution_count": null,
      "outputs": [
        {
          "output_type": "stream",
          "name": "stdout",
          "text": [
            "[0, 1, 2, 3, 4, 5, 6, 7, 8, 9]\n"
          ]
        }
      ]
    },
    {
      "cell_type": "code",
      "source": [
        "a = 'python'\n",
        "list(a)\n"
      ],
      "metadata": {
        "colab": {
          "base_uri": "https://localhost:8080/"
        },
        "id": "o56NMqmlgtwg",
        "outputId": "1dfac792-c099-4529-ea0f-ff821bc7efc8"
      },
      "id": "o56NMqmlgtwg",
      "execution_count": null,
      "outputs": [
        {
          "output_type": "execute_result",
          "data": {
            "text/plain": [
              "['p', 'y', 't', 'h', 'o', 'n']"
            ]
          },
          "metadata": {},
          "execution_count": 33
        }
      ]
    },
    {
      "cell_type": "code",
      "source": [
        "기사 = '''오늘 남부지방과 제주도는 대체로 흐린 가운데 비가 내리겠습니다.\n",
        "예상 강수량은 영남 해안 지역이 30에서 80mm, 많은 곳은 100mm 이상이고, 그 밖의 남부지방과 제주도는 10에서 60mm입니다.\n",
        "비가 오는 동안 천둥·번개가 치고, 한 시간에 30mm가 넘는 강한 비가 쏟아지는 곳이 있겠습니다.\n",
        "남부지방과 제주도의 비는 내일 오전까지 계속되는 곳이 있겠습니다.\n",
        "오늘 중부지방은 가끔 구름이 많이 끼는 가운데 오후에 5에서 30mm의 소나기가 오는 곳이 있겠습니다.\n",
        "낮 최고기온은 서울 33도 등 전국이 26도에서 34도로 어제와 비슷하거나 조금 더 높겠습니다.\n",
        "바다의 물결은 남해 먼바다와 제주도 해상에서 최고 2.5m로 비교적 높게 일겠습니다.\n",
        "동해안과 경남 남해안에는 높은 너울이 밀려오는 곳이 있겠고, 동해상에는 짙은 안개가 끼는 곳이 있겠습니다.\n",
        "'''\n",
        "기사 = 기사.replace('남부지방', '중부지방') #단어 다른 단어로 대체\n",
        "print(기사)\n",
        "\n",
        "result = 기사.split(' ') #' '로 분리해서 리스트로 변환\n",
        "print(f'리스트의 개수(길이): {len(result)} ')\n",
        "print(result)"
      ],
      "metadata": {
        "colab": {
          "base_uri": "https://localhost:8080/"
        },
        "id": "VgqNeh2hhIvC",
        "outputId": "f9afbaff-a3c2-41d4-eeb3-ea227f26414d"
      },
      "id": "VgqNeh2hhIvC",
      "execution_count": null,
      "outputs": [
        {
          "output_type": "stream",
          "name": "stdout",
          "text": [
            "오늘 중부지방과 제주도는 대체로 흐린 가운데 비가 내리겠습니다.\n",
            "예상 강수량은 영남 해안 지역이 30에서 80mm, 많은 곳은 100mm 이상이고, 그 밖의 중부지방과 제주도는 10에서 60mm입니다.\n",
            "비가 오는 동안 천둥·번개가 치고, 한 시간에 30mm가 넘는 강한 비가 쏟아지는 곳이 있겠습니다.\n",
            "중부지방과 제주도의 비는 내일 오전까지 계속되는 곳이 있겠습니다.\n",
            "오늘 중부지방은 가끔 구름이 많이 끼는 가운데 오후에 5에서 30mm의 소나기가 오는 곳이 있겠습니다.\n",
            "낮 최고기온은 서울 33도 등 전국이 26도에서 34도로 어제와 비슷하거나 조금 더 높겠습니다.\n",
            "바다의 물결은 남해 먼바다와 제주도 해상에서 최고 2.5m로 비교적 높게 일겠습니다.\n",
            "동해안과 경남 남해안에는 높은 너울이 밀려오는 곳이 있겠고, 동해상에는 짙은 안개가 끼는 곳이 있겠습니다.\n",
            "\n",
            "리스트의 개수(길이): 92 \n",
            "['오늘', '중부지방과', '제주도는', '대체로', '흐린', '가운데', '비가', '내리겠습니다.\\n예상', '강수량은', '영남', '해안', '지역이', '30에서', '80mm,', '많은', '곳은', '100mm', '이상이고,', '그', '밖의', '중부지방과', '제주도는', '10에서', '60mm입니다.\\n비가', '오는', '동안', '천둥·번개가', '치고,', '한', '시간에', '30mm가', '넘는', '강한', '비가', '쏟아지는', '곳이', '있겠습니다.\\n중부지방과', '제주도의', '비는', '내일', '오전까지', '계속되는', '곳이', '있겠습니다.\\n오늘', '중부지방은', '가끔', '구름이', '많이', '끼는', '가운데', '오후에', '5에서', '30mm의', '소나기가', '오는', '곳이', '있겠습니다.\\n낮', '최고기온은', '서울', '33도', '등', '전국이', '26도에서', '34도로', '어제와', '비슷하거나', '조금', '더', '높겠습니다.\\n바다의', '물결은', '남해', '먼바다와', '제주도', '해상에서', '최고', '2.5m로', '비교적', '높게', '일겠습니다.\\n동해안과', '경남', '남해안에는', '높은', '너울이', '밀려오는', '곳이', '있겠고,', '동해상에는', '짙은', '안개가', '끼는', '곳이', '있겠습니다.\\n']\n"
          ]
        }
      ]
    },
    {
      "cell_type": "markdown",
      "id": "7eef7d7c",
      "metadata": {
        "id": "7eef7d7c"
      },
      "source": [
        "### 리스트 전체삭제"
      ]
    },
    {
      "cell_type": "code",
      "execution_count": null,
      "id": "52a5a894",
      "metadata": {
        "id": "52a5a894"
      },
      "outputs": [],
      "source": [
        "a=[1,2,3,4,5]\n",
        "b=[6,7,8,9,10]\n",
        "\n",
        "del(b)   # 리스트 전체 삭제\n",
        "print(a)\n",
        "print(b)"
      ]
    },
    {
      "cell_type": "markdown",
      "id": "b3ab38e4",
      "metadata": {
        "id": "b3ab38e4"
      },
      "source": [
        "### 리스트 요소에 접근"
      ]
    },
    {
      "cell_type": "code",
      "execution_count": null,
      "id": "d36d5b62",
      "metadata": {
        "scrolled": true,
        "colab": {
          "base_uri": "https://localhost:8080/"
        },
        "id": "d36d5b62",
        "outputId": "a1a51b57-aa33-4943-b76e-4af8254eb41e"
      },
      "outputs": [
        {
          "output_type": "stream",
          "name": "stdout",
          "text": [
            "green\n",
            "['blue', 'deepblue']\n",
            "deepblue\n"
          ]
        }
      ],
      "source": [
        "colors = ['red', 'green', ['blue', 'deepblue'], 'black', 'white']\n",
        "print( colors[1] )\n",
        "print( colors[2] )\n",
        "print( colors[2][1] )\n"
      ]
    },
    {
      "cell_type": "markdown",
      "id": "b7811d5d",
      "metadata": {
        "id": "b7811d5d"
      },
      "source": [
        "### 리스트 요소 추가 / 변경"
      ]
    },
    {
      "cell_type": "code",
      "execution_count": null,
      "id": "010220d8",
      "metadata": {
        "colab": {
          "base_uri": "https://localhost:8080/"
        },
        "id": "010220d8",
        "outputId": "feafc70f-05c2-444f-a0f2-cd72f02cf451"
      },
      "outputs": [
        {
          "output_type": "stream",
          "name": "stdout",
          "text": [
            "['red', 'green', ['blue', 'deepblue'], 'black', 'white']\n",
            "['red', 'green', ['blue', 'deepblue'], 'black', 'white', '핑크']\n",
            "['red', '연두', 'green', ['blue', 'deepblue'], 'black', 'white', '핑크']\n",
            "['red', '연두', 'green', ['blue', 'darkblue', 'deepblue'], 'black', 'white', '핑크']\n",
            "['red', '연두', 'green', ['blue', 'darkblue', 'deepblue'], 'black', 'white', '핑크', ['r', 'g', 'b']]\n"
          ]
        }
      ],
      "source": [
        "#리스트 요소 추가\n",
        "colors = ['red', 'green', ['blue', 'deepblue'], 'black', 'white']\n",
        "print(colors)\n",
        "colors.append('핑크')     # 리스트 맨 끝에 추가\n",
        "print(colors)\n",
        "colors.insert(1, '연두')  # 리스트명.insert(인덱스위치, 값)\n",
        "print(colors)\n",
        "colors[3].insert(1, 'darkblue')\n",
        "print(colors)\n",
        "colors.append(['r', 'g', 'b'])\n",
        "print(colors)\n",
        "\n",
        "\n"
      ]
    },
    {
      "cell_type": "code",
      "source": [
        "#리스트 요소 변경\n",
        "colors[1] = 'light green'   #해당 위치에 값을 대입\n",
        "print(colors)\n",
        "\n",
        "colors[3][1]='lightblue'\n",
        "print(colors)\n",
        "\n",
        "colors[3:]='yellow'\n",
        "print(colors)"
      ],
      "metadata": {
        "colab": {
          "base_uri": "https://localhost:8080/"
        },
        "id": "_52RYq97l1Nb",
        "outputId": "72cd1347-0548-4ead-d9b7-ab25f9e32d5c"
      },
      "id": "_52RYq97l1Nb",
      "execution_count": null,
      "outputs": [
        {
          "output_type": "stream",
          "name": "stdout",
          "text": [
            "['red', 'light green', 'green', ['blue', 'darkblue', 'deepblue'], 'black', 'white', '핑크', ['r', 'g', 'b']]\n",
            "['red', 'light green', 'green', ['blue', 'lightblue', 'deepblue'], 'black', 'white', '핑크', ['r', 'g', 'b']]\n",
            "['red', 'light green', 'green', 'y', 'e', 'l', 'l', 'o', 'w']\n"
          ]
        }
      ]
    },
    {
      "cell_type": "markdown",
      "id": "5a5820d1",
      "metadata": {
        "id": "5a5820d1"
      },
      "source": [
        "### 리스트 요소 삭제"
      ]
    },
    {
      "cell_type": "code",
      "execution_count": null,
      "id": "e4c76b68",
      "metadata": {
        "colab": {
          "base_uri": "https://localhost:8080/"
        },
        "id": "e4c76b68",
        "outputId": "f2e4b0c7-208c-4461-8f3d-97404ddb3a8c"
      },
      "outputs": [
        {
          "output_type": "stream",
          "name": "stdout",
          "text": [
            "['red', 'light green', 'green', 'y', 'e', 'l', 'l', 'o', 'w']\n",
            "['red', 'light green', 'green', 'y', 'e', 'l', 'l', 'o']\n",
            "['red', 'light green', 'green', 'e', 'l', 'l', 'o']\n",
            "['red', 'light green', 'green', 'e', 'l', 'l']\n",
            "['red', 'light green', 'green', 'e', 'l']\n",
            "['red', 'light green', 'green', 'e']\n",
            "['red', 'light green', 'green']\n"
          ]
        }
      ],
      "source": [
        "print(colors)\n",
        "colors.pop()     # 리스트 맨 끝 요소 삭제\n",
        "print(colors)\n",
        "colors.remove('y')  # 리스트명.remove(값), 단 여러 개 일 경우 첫 번째만 삭제됨\n",
        "print(colors)\n",
        "\n",
        "for _ in range(-1, -5, -1):\n",
        "    colors.pop()\n",
        "    print(colors)"
      ]
    },
    {
      "cell_type": "code",
      "source": [
        "# 리스트 요소 삭제\n",
        "colors = ['red', 'light green', 'green', 'e', 'l', 'l', 'o']\n",
        "print(colors)\n",
        "\n",
        "del colors[3]       # 특정 위치 요소 제거\n",
        "print(colors)\n",
        "\n",
        "colors.remove('l')  # 특정 값 제\n",
        "print(colors)\n",
        "\n",
        "colors.pop()        # 맨 뒤의 요소 제거\n",
        "print(colors)"
      ],
      "metadata": {
        "colab": {
          "base_uri": "https://localhost:8080/"
        },
        "id": "emmtKh70prTo",
        "outputId": "bb504bb9-3c3a-43ec-9ecb-d0647291d98d"
      },
      "id": "emmtKh70prTo",
      "execution_count": null,
      "outputs": [
        {
          "output_type": "stream",
          "name": "stdout",
          "text": [
            "['red', 'light green', 'green', 'e', 'l', 'l', 'o']\n",
            "['red', 'light green', 'green', 'l', 'l', 'o']\n",
            "['red', 'light green', 'green', 'l', 'o']\n",
            "['red', 'light green', 'green', 'l']\n"
          ]
        }
      ]
    },
    {
      "cell_type": "code",
      "source": [
        "list(range(-1, -5, -1))\n"
      ],
      "metadata": {
        "colab": {
          "base_uri": "https://localhost:8080/"
        },
        "id": "oavRh2rhqOfT",
        "outputId": "b5e45be9-48aa-4e9b-c616-cd7c9f5eec06"
      },
      "id": "oavRh2rhqOfT",
      "execution_count": null,
      "outputs": [
        {
          "output_type": "execute_result",
          "data": {
            "text/plain": [
              "[-1, -2, -3, -4]"
            ]
          },
          "metadata": {},
          "execution_count": 60
        }
      ]
    },
    {
      "cell_type": "code",
      "source": [
        "#임의의 수 생성해서 리스트로 만들고 정렬하기\n",
        "import random\n",
        "\n",
        "numbers = list() # 빈 리스트\n",
        "numbers = [] # 빈 리스트\n",
        "\n",
        " # 1~100까지 정수 중에 임의로 하나 뽑기\n",
        "numbers.append(random.randint(1, 100))\n",
        "numbers.append(random.randint(1, 100))\n",
        "numbers.append(random.randint(1, 100))\n",
        "numbers.append(random.randint(1, 100))\n",
        "numbers.append(random.randint(1, 100))\n",
        "print(numbers)\n",
        "\n",
        "#정렬하기\n",
        "numbers.sort()\n",
        "numbers.reverse()\n",
        "print(f'정렬 후: {numbers}')"
      ],
      "metadata": {
        "colab": {
          "base_uri": "https://localhost:8080/"
        },
        "id": "LTvLZI1tr7o9",
        "outputId": "a592d58f-cb5c-4fc0-a10e-bbc670bf4ef4"
      },
      "id": "LTvLZI1tr7o9",
      "execution_count": null,
      "outputs": [
        {
          "output_type": "stream",
          "name": "stdout",
          "text": [
            "[67, 63, 11, 41, 10]\n",
            "정렬 후: [67, 63, 41, 11, 10]\n"
          ]
        }
      ]
    },
    {
      "cell_type": "markdown",
      "id": "df6f6d08",
      "metadata": {
        "id": "df6f6d08"
      },
      "source": [
        "## 2-7.딕셔너리(Dictionary)\n",
        "- 딕셔너리는 쌍이 하나로 묶인 자료구조\n",
        "- 인덱스를 의미하는 ‘키(key)'와 자료의 내용인 ‘ 값(value)'을 이용하여  데이터를 관리\n",
        "- 중괄호 { }로 묶어 구성, 키(Key)와 값(Value)의 쌍으로 구성\n",
        "- 순서(sequence)가 없다"
      ]
    },
    {
      "cell_type": "markdown",
      "id": "4393e9e4",
      "metadata": {
        "id": "4393e9e4"
      },
      "source": [
        "### 딕셔너리 생성"
      ]
    },
    {
      "cell_type": "code",
      "execution_count": null,
      "id": "da6bca38",
      "metadata": {
        "colab": {
          "base_uri": "https://localhost:8080/"
        },
        "id": "da6bca38",
        "outputId": "1c5276e2-1863-41d6-dd3b-b7b7bdfd986f"
      },
      "outputs": [
        {
          "output_type": "stream",
          "name": "stdout",
          "text": [
            "<class 'dict'> {}\n",
            "{'name': '진', 'age': 29, 'email': 'jin@gggmail.com'}\n",
            "29\n",
            "29\n",
            "{'name': '진', 'age': 29, 'email': 'jin@gggmail.com', 7: ['정국', '뷔', '지민']}\n"
          ]
        }
      ],
      "source": [
        "\n",
        "members={}  #빈 딕셔너리\n",
        "members=dict() #빈 딕셔너리\n",
        "print(type(members), members)\n",
        "\n",
        "members = {'name':'진', 'age':29, 'email':'jin@gggmail.com'}\n",
        "print(members)\n",
        "print(members['age'])  # 키로 값 찾기\n",
        "print(members.get('age'))\n",
        "\n",
        "members[7]=['정국', '뷔', '지민']  #딕셔너리에 요소 추가: 새로운 키(key): 값(value) 추가\n",
        "print(members)"
      ]
    },
    {
      "cell_type": "markdown",
      "id": "b5f4d763",
      "metadata": {
        "id": "b5f4d763"
      },
      "source": [
        "### 딕셔너리 키(key)와 값(value)에 접근하기"
      ]
    },
    {
      "cell_type": "code",
      "execution_count": null,
      "id": "0697a654",
      "metadata": {
        "colab": {
          "base_uri": "https://localhost:8080/"
        },
        "id": "0697a654",
        "outputId": "ebf1a7db-e08b-4927-aece-7a6418ac2714"
      },
      "outputs": [
        {
          "output_type": "stream",
          "name": "stdout",
          "text": [
            "100\n",
            "---방법1---\n",
            "국어 => 100\n",
            "수학 => 90\n",
            "영어 => 80\n",
            "dict_items([('국어', 100), ('수학', 90), ('영어', 80)])\n",
            "---방법2---\n",
            "국어 => 100\n",
            "수학 => 90\n",
            "영어 => 80\n"
          ]
        }
      ],
      "source": [
        "## 딕셔너리의 요소 접근하는 방법\n",
        "\n",
        "scores = {'국어': 100, '수학': 90, '영어': 80}\n",
        "print(scores['국어'])  # 딕셔너리는 키로 접근한다.\n",
        "\n",
        "# 방법1\n",
        "print('---방법1---')\n",
        "for key in scores:\n",
        "    # print('%s => %s' % (key, scores[key]))\n",
        "    print(f'{key} => {scores[key]}')\n",
        "\n",
        "# (키,값) 요소를 갖는 리스트 형태로 반환하는 함수\n",
        "print(scores.items())\n",
        "\n",
        "# 방법2\n",
        "print('---방법2---')\n",
        "for (key, value) in scores.items():\n",
        "    # print('%s => %s' % (key, value))\n",
        "    print(f'{key} => {value}')"
      ]
    },
    {
      "cell_type": "code",
      "execution_count": null,
      "id": "011745db",
      "metadata": {
        "colab": {
          "base_uri": "https://localhost:8080/"
        },
        "id": "011745db",
        "outputId": "a98ffb92-3e9c-4b1d-a27a-f4ce27a84102"
      },
      "outputs": [
        {
          "output_type": "stream",
          "name": "stdout",
          "text": [
            "dict_keys(['국어', '수학', '영어'])\n",
            "dict_values([100, 90, 80])\n",
            "dict_items([('국어', 100), ('수학', 90), ('영어', 80)])\n"
          ]
        }
      ],
      "source": [
        "print(scores.keys())   # 키만 추출해서 리스트로 반환\n",
        "print(scores.values()) # 키만 추출해서 리스트로 반환\n",
        "print(scores.items())  # (키,값)쌍 형태로 추출해서 리스트로 반환"
      ]
    },
    {
      "cell_type": "markdown",
      "id": "7d76f114",
      "metadata": {
        "id": "7d76f114"
      },
      "source": [
        "### 딕셔너리에 요소 추가/수정/삭제"
      ]
    },
    {
      "cell_type": "code",
      "execution_count": null,
      "id": "f15a3506",
      "metadata": {
        "id": "f15a3506"
      },
      "outputs": [],
      "source": [
        "scores={'국어': 100, '수학':90, '영어':80}\n",
        "\n",
        "# 키로 요소 추가하기\n",
        "scores['music'] = 100\n",
        "print(scores)\n",
        "\n",
        "# 요소 값 수정하기\n",
        "scores['수학'] = 99\n",
        "print(scores)\n",
        "\n",
        "# 요소 삭제하기\n",
        "del (scores['영어'])\n",
        "print(scores)"
      ]
    },
    {
      "cell_type": "markdown",
      "id": "45e329e4",
      "metadata": {
        "id": "45e329e4"
      },
      "source": [
        "------------------------"
      ]
    },
    {
      "cell_type": "markdown",
      "id": "66025633",
      "metadata": {
        "id": "66025633"
      },
      "source": [
        "끝"
      ]
    }
  ],
  "metadata": {
    "kernelspec": {
      "display_name": "Python 3 (ipykernel)",
      "language": "python",
      "name": "python3"
    },
    "language_info": {
      "codemirror_mode": {
        "name": "ipython",
        "version": 3
      },
      "file_extension": ".py",
      "mimetype": "text/x-python",
      "name": "python",
      "nbconvert_exporter": "python",
      "pygments_lexer": "ipython3",
      "version": "3.10.9"
    },
    "vscode": {
      "interpreter": {
        "hash": "b41e41bff03a930185ac2cbea60ce521f7c8c2f5401ceb5c30214081f77ab4f5"
      }
    },
    "colab": {
      "provenance": [],
      "toc_visible": true,
      "include_colab_link": true
    }
  },
  "nbformat": 4,
  "nbformat_minor": 5
}