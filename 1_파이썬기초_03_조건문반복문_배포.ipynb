{
  "cells": [
    {
      "cell_type": "markdown",
      "metadata": {
        "id": "view-in-github",
        "colab_type": "text"
      },
      "source": [
        "<a href=\"https://colab.research.google.com/github/jiyounglee523/projectmanager/blob/main/1_%ED%8C%8C%EC%9D%B4%EC%8D%AC%EA%B8%B0%EC%B4%88_03_%EC%A1%B0%EA%B1%B4%EB%AC%B8%EB%B0%98%EB%B3%B5%EB%AC%B8_%EB%B0%B0%ED%8F%AC.ipynb\" target=\"_parent\"><img src=\"https://colab.research.google.com/assets/colab-badge.svg\" alt=\"Open In Colab\"/></a>"
      ]
    },
    {
      "cell_type": "markdown",
      "id": "25f81d8c",
      "metadata": {
        "id": "25f81d8c"
      },
      "source": [
        "# 파이썬 기초 다지기"
      ]
    },
    {
      "cell_type": "markdown",
      "id": "3f3da3bd",
      "metadata": {
        "id": "3f3da3bd"
      },
      "source": [
        "## 3- 조건문과 반복문\n",
        "데이터와 처리의 흐름을 제어하는 조건문과 반목문"
      ]
    },
    {
      "cell_type": "markdown",
      "id": "0c52a67e",
      "metadata": {
        "id": "0c52a67e"
      },
      "source": [
        "----------------------------------"
      ]
    },
    {
      "cell_type": "markdown",
      "id": "aee8f2e8",
      "metadata": {
        "id": "aee8f2e8"
      },
      "source": [
        "## 3-1.if 조건문"
      ]
    },
    {
      "cell_type": "markdown",
      "id": "e89f3546",
      "metadata": {
        "id": "e89f3546"
      },
      "source": [
        "### 조건문: if"
      ]
    },
    {
      "cell_type": "code",
      "execution_count": 2,
      "id": "4f161d86",
      "metadata": {
        "colab": {
          "base_uri": "https://localhost:8080/"
        },
        "id": "4f161d86",
        "outputId": "3d406f2b-f139-43e9-fd9f-a0c724b59f9c"
      },
      "outputs": [
        {
          "output_type": "stream",
          "name": "stdout",
          "text": [
            "숫자를 입력하세요:130\n",
            "130는 100보다 크군요!\n"
          ]
        }
      ],
      "source": [
        "a = int(input('숫자를 입력하세요:'))\n",
        "if a > 100:\n",
        "    print(F'{a}는 100보다 크군요!')\n"
      ]
    },
    {
      "cell_type": "markdown",
      "id": "cb89ea65",
      "metadata": {
        "id": "cb89ea65"
      },
      "source": [
        "### 조건문: if ~ else"
      ]
    },
    {
      "cell_type": "code",
      "execution_count": 3,
      "id": "6eca2413",
      "metadata": {
        "colab": {
          "base_uri": "https://localhost:8080/"
        },
        "id": "6eca2413",
        "outputId": "92b01f2b-d28c-4423-baa4-dac3752bd31b"
      },
      "outputs": [
        {
          "output_type": "stream",
          "name": "stdout",
          "text": [
            "숫자를 입력하세요:30\n",
            "30는 100보다 크지 않거나 않군요!\n"
          ]
        }
      ],
      "source": [
        "a = int(input('숫자를 입력하세요:'))\n",
        "if a > 100:\n",
        "    print(f'{a}는 100보다 크군요!')\n",
        "else:\n",
        "    print(f'{a}는 100보다 크지 않거나 않군요!')\n"
      ]
    },
    {
      "cell_type": "markdown",
      "id": "13b404bd",
      "metadata": {
        "id": "13b404bd"
      },
      "source": [
        "### 조건문 : 중첩if"
      ]
    },
    {
      "cell_type": "code",
      "execution_count": 5,
      "id": "9575f530",
      "metadata": {
        "colab": {
          "base_uri": "https://localhost:8080/"
        },
        "id": "9575f530",
        "outputId": "6b2a8030-04f9-415a-eefe-7f36f1b8957b"
      },
      "outputs": [
        {
          "output_type": "stream",
          "name": "stdout",
          "text": [
            "숫자를 입력하세요:203\n",
            "203는 100보다 크군요!\n",
            "203는 200보다 크군요!\n"
          ]
        }
      ],
      "source": [
        "a = int(input('숫자를 입력하세요:'))\n",
        "if a > 100:\n",
        "    print(f'{a}는 100보다 크군요!')\n",
        "    if a>200:\n",
        "       print(f'{a}는 200보다 크군요!')\n",
        "    else:\n",
        "       print(f'{a}는 200보다 같거나 크지 않군요!')\n",
        "else:\n",
        "    if a==100:\n",
        "        print(f'{a}는 100과 같군요!')\n",
        "    else:\n",
        "        print(f'{a}는 100보다 작군요!')\n"
      ]
    },
    {
      "cell_type": "markdown",
      "source": [
        "### if~ elif ~ else~"
      ],
      "metadata": {
        "id": "mRt4LZwujJ5a"
      },
      "id": "mRt4LZwujJ5a"
    },
    {
      "cell_type": "code",
      "source": [
        "a = int(input('숫자를 입력하세요:'))\n",
        "if a > 200:\n",
        "    print(f'{a}는 200보다 크군요!')\n",
        "elif a>100:\n",
        "    print(f'{a}는 100보다 크고 200보다 작거나 같군요!')\n",
        "elif a==100:\n",
        "    print(f'{a}는 100과 같군요!')\n",
        "else:\n",
        "    print(f'{a}는 100보다 작군요!')"
      ],
      "metadata": {
        "colab": {
          "base_uri": "https://localhost:8080/"
        },
        "id": "UwiW18Kti7ro",
        "outputId": "53d501e3-2703-4874-f3a9-200aab09b3d0"
      },
      "id": "UwiW18Kti7ro",
      "execution_count": 6,
      "outputs": [
        {
          "output_type": "stream",
          "name": "stdout",
          "text": [
            "숫자를 입력하세요:100\n",
            "100는 100과 같군요!\n"
          ]
        }
      ]
    },
    {
      "cell_type": "markdown",
      "id": "349dec8b",
      "metadata": {
        "id": "349dec8b"
      },
      "source": [
        "### [실습문제] 짝수/홀수 판별하기"
      ]
    },
    {
      "cell_type": "code",
      "execution_count": 9,
      "id": "de48c13d",
      "metadata": {
        "colab": {
          "base_uri": "https://localhost:8080/"
        },
        "id": "de48c13d",
        "outputId": "09b010df-9df1-4653-d270-95cf6af26d18"
      },
      "outputs": [
        {
          "output_type": "stream",
          "name": "stdout",
          "text": [
            "숫자를 입력해 주세요: 5\n",
            "입력된 수: 5 ==>홀수\n"
          ]
        }
      ],
      "source": [
        "x=int(input('숫자를 입력해 주세요: '))\n",
        "\n",
        "if x%2==0 :\n",
        "  print(f'입력된 수: {x} ==>짝수')\n",
        "else :\n",
        "  print(f'입력된 수: {x} ==>홀수')\n",
        "\n",
        "\n"
      ]
    },
    {
      "cell_type": "code",
      "source": [
        "#멤버쉽 연산자 사용해서 조건문 판별하기\n",
        "a = [1,2,3,4,5]\n",
        "x = 7\n",
        "if x in a:\n",
        "  print(f'{x}는 {a} 리스트에 포함되어 있습니다. ')\n",
        "else:\n",
        "  print(f'{x}는 {a} 리스트에 포함되어 있지 않습니다. ')"
      ],
      "metadata": {
        "colab": {
          "base_uri": "https://localhost:8080/"
        },
        "id": "PEzqd2Ull-QS",
        "outputId": "0ec4a874-1d51-494b-839f-78e592f14170"
      },
      "id": "PEzqd2Ull-QS",
      "execution_count": 10,
      "outputs": [
        {
          "output_type": "stream",
          "name": "stdout",
          "text": [
            "7는 [1, 2, 3, 4, 5] 리스트에 포함되어 있지 않습니다. \n"
          ]
        }
      ]
    },
    {
      "cell_type": "markdown",
      "id": "30919e6b",
      "metadata": {
        "id": "30919e6b"
      },
      "source": [
        "### [실습문제]\n",
        "피타고라스 정리에 의해 직각삼각형의 세 변의 길이에 대한 관계는 아래와 같습니다. 이 정리를 이용하여 세 변의 길이를 입력 받은 삼각형이 직각삼각형인지 아닌지 판별하는 프로그램을 만들어 보세요.\n"
      ]
    },
    {
      "cell_type": "code",
      "execution_count": 15,
      "id": "f6e6ca29",
      "metadata": {
        "scrolled": false,
        "colab": {
          "base_uri": "https://localhost:8080/"
        },
        "id": "f6e6ca29",
        "outputId": "4ac090a3-8ffd-4564-a3c9-6422dea0ab5a"
      },
      "outputs": [
        {
          "output_type": "stream",
          "name": "stdout",
          "text": [
            "변 a의 길이: 1\n",
            "변 b의 길이: 2\n",
            "변 c의 길이: 2\n",
            "------------------------------\n",
            "세 변 1, 2, 2는 직각삼각형이 아닙니다.\n"
          ]
        }
      ],
      "source": [
        "# 1. 세 변의 길이 입력 받기\n",
        "a = int(input('변 a의 길이: '))\n",
        "b = int(input('변 b의 길이: '))\n",
        "c = int(input('변 c의 길이: '))  # 빗변이라 가정한다.\n",
        "print('-' * 30)  # 분리 선\n",
        "\n",
        "# 2. 직각삼각형 판별하기\n",
        "if (a**2 + b**2) == c**2:\n",
        "    print(f'세 변 {a}, {b}, {c}는 직각삼각형 입니다.')\n",
        "else:\n",
        "    print(f'세 변 {a}, {b}, {c}는 직각삼각형이 아닙니다.')\n"
      ]
    },
    {
      "cell_type": "code",
      "source": [
        "a = [1,2,3,4,5]\n",
        "print(f'{a}의 개수(길이): {len(a)}' )\n",
        "print(f'{a}의 합계  : {sum(a)}' )\n",
        "print(f'{a}의 최소값: {min(a)}' )\n",
        "print(f'{a}의 최대값: {max(a)}' )\n",
        "print(f'{a}의 평균  : {sum(a)/len(a)}' )"
      ],
      "metadata": {
        "id": "n2ry2H61sPAw"
      },
      "id": "n2ry2H61sPAw",
      "execution_count": null,
      "outputs": []
    },
    {
      "cell_type": "code",
      "source": [
        "score = int(input('성적을 입력해 주세요: '))\n",
        "print('-' * 30)\n",
        "grade = 'D'\n",
        "\n",
        "if score >= 90:\n",
        "    grade = 'A'\n",
        "elif score >= 80:\n",
        "    grade = 'B'\n",
        "elif score >= 70:\n",
        "    grade = 'C'\n",
        "\n",
        "print(f'성적: {score}점은 {grade}등급 입니다.')\n"
      ],
      "metadata": {
        "id": "xrbNWwy5x5jb"
      },
      "id": "xrbNWwy5x5jb",
      "execution_count": null,
      "outputs": []
    },
    {
      "cell_type": "code",
      "source": [
        "score = int(input('성적을 입력해 주세요: '))\n",
        "print('-' * 30)\n",
        "grade = 'D'\n",
        "\n",
        "if score >= 90: grade = 'A'\n",
        "if 80 <= score < 90: grade = 'B'\n",
        "if 70 <= score < 80: grade = 'C'\n",
        "\n",
        "print(f'성적: {score}점은 {grade}등급 입니다.')"
      ],
      "metadata": {
        "id": "g1mds3Nqx6-M"
      },
      "id": "g1mds3Nqx6-M",
      "execution_count": null,
      "outputs": []
    },
    {
      "cell_type": "code",
      "source": [
        "temp = int(input(\"현재 온도를 넣으세요: \"))\n",
        "speaker = \"온도가 쾌적해요\"\n",
        "\n",
        "if temp >= 30:\n",
        "    speaker = \"에어컨을 켜세요\"\n",
        "elif temp < 15:\n",
        "    speaker = \"내복을 입으세요\"\n",
        "    if temp <= 10:\n",
        "        speaker = \"난방기를 켜세요\"\n",
        "\n",
        "print(f'온도 {temp}도 일때는 {speaker}')"
      ],
      "metadata": {
        "colab": {
          "base_uri": "https://localhost:8080/"
        },
        "id": "u0gHoK5v5Mkp",
        "outputId": "b7350d55-a0eb-4ee5-c88a-87cee098e238"
      },
      "id": "u0gHoK5v5Mkp",
      "execution_count": 16,
      "outputs": [
        {
          "output_type": "stream",
          "name": "stdout",
          "text": [
            "현재 온도를 넣으세요: 38\n",
            "온도 38도 일때는 에어컨을 켜세요\n"
          ]
        }
      ]
    },
    {
      "cell_type": "markdown",
      "id": "862598a5",
      "metadata": {
        "id": "862598a5"
      },
      "source": [
        "### [실습문제]\n",
        "아래 조건을 만족하는 커피 자동주문 머신을 만들어보세요.<br><br>\n",
        "[커피 자동주문 머신]<br>\n",
        "친구들과 현금 커피 자동주문 머신 앞에서\n",
        " - 아메리카노 2잔과 카페라테 2잔 카푸치노 1잔을 주문하였다.\n",
        " - 아메리카노 한잔에 2500원이고\n",
        " - 카페라테는 한잔에 3000원\n",
        " - 카푸치노는 한잔에 3000원이다.\n",
        "커피 종류와 잔 수를 결정한 후 현금 15000원을 투입하고 잔돈을 1000원 받았다."
      ]
    },
    {
      "cell_type": "code",
      "execution_count": null,
      "id": "0d6035c2",
      "metadata": {
        "id": "0d6035c2"
      },
      "outputs": [],
      "source": [
        "menu = '''[커피 자동주문 머신 메뉴]\n",
        "------------------------------\n",
        "-아메리카노는 2500원\n",
        "-카레라떼는 3000원\n",
        "-카푸치노는 3000원\n",
        "입니다. 원하시는 커피종류와 잔수를 입력하세요.\n",
        "------------------------------'''\n",
        "print(menu)\n",
        "coffee1 = int(input(\"아메리카노 몇잔?\"))\n",
        "coffee2 = int(input(\"카페라떼 몇잔?\"))\n",
        "coffee3 = int(input(\"카푸치노 몇잔?\"))\n",
        "\n",
        "\n",
        "\n"
      ]
    },
    {
      "cell_type": "markdown",
      "id": "67412428",
      "metadata": {
        "id": "67412428"
      },
      "source": [
        "## 3-2.반복문"
      ]
    },
    {
      "cell_type": "markdown",
      "id": "44197774",
      "metadata": {
        "id": "44197774"
      },
      "source": [
        "### 반복문: for 반복문"
      ]
    },
    {
      "cell_type": "code",
      "execution_count": null,
      "id": "9f69ecc4",
      "metadata": {
        "scrolled": true,
        "id": "9f69ecc4"
      },
      "outputs": [],
      "source": []
    },
    {
      "cell_type": "markdown",
      "id": "8288e636",
      "metadata": {
        "id": "8288e636"
      },
      "source": [
        "### [실습문제]\n",
        "키보드로 양의 정수(n)을 입력 받아 1~n까지의 합을 구하는 프로그램을 만들어 보세요."
      ]
    },
    {
      "cell_type": "code",
      "execution_count": null,
      "id": "d6774150",
      "metadata": {
        "id": "d6774150"
      },
      "outputs": [],
      "source": [
        "# 1. 숫자 N을 입력하세요.\n",
        "\n",
        "\n",
        "# 2. 1~N까지 합계를 구하세요.\n",
        "\n"
      ]
    },
    {
      "cell_type": "markdown",
      "id": "aae06acb",
      "metadata": {
        "id": "aae06acb"
      },
      "source": [
        "### [실습문제]\n",
        "키보드로 양의 정수(n)을 입력 받아 1~n까지의 합을 구할 때 짝수를 제외하고 합을 구하는 프로그램을 만들어 보세요."
      ]
    },
    {
      "cell_type": "code",
      "execution_count": null,
      "id": "c87285cf",
      "metadata": {
        "id": "c87285cf"
      },
      "outputs": [],
      "source": [
        "\n"
      ]
    },
    {
      "cell_type": "markdown",
      "id": "ac62e6f7",
      "metadata": {
        "id": "ac62e6f7"
      },
      "source": [
        "### 반복문: while 반복문"
      ]
    },
    {
      "cell_type": "code",
      "execution_count": null,
      "id": "f2fb3ce9",
      "metadata": {
        "id": "f2fb3ce9"
      },
      "outputs": [],
      "source": [
        "num1, num2 = 0, 0\n",
        "\n",
        "while True:\n",
        "    num1 = int(input(\"더할 첫 번째 숫자: \"))\n",
        "    if num1 == 0:\n",
        "        break\n",
        "\n",
        "    num2 = int(input(\"더할 두 번째 숫자: \"))\n",
        "\n",
        "    print(f'{num1} + {num2} = {num1 + num2}')\n",
        "\n",
        "print(\"0을 입력해서 반복문을 탈출했습니다.\")"
      ]
    },
    {
      "cell_type": "markdown",
      "id": "02a797a4",
      "metadata": {
        "id": "02a797a4"
      },
      "source": [
        "### [실습문제] 도둑잡기 게임 만들기\n",
        "경찰에 쫓기던 범인이 3개의 방 중에 한 곳에 숨어버렸습니다. 범인은 방문을 열 때마다 무작위로 3개의 방 중 하나의 방으로 이동합니다. 3개의 방 중 하나의 방을 선택했을 때 범인이 있다면 100점, 없을 때 -10점을 부여하고 범인을 잡으면 게임을 종료하는 프로그램을 만들어 보세요."
      ]
    },
    {
      "cell_type": "code",
      "execution_count": null,
      "id": "e08b9dc4",
      "metadata": {
        "id": "e08b9dc4"
      },
      "outputs": [],
      "source": [
        "\n"
      ]
    },
    {
      "cell_type": "markdown",
      "id": "0d03701c",
      "metadata": {
        "id": "0d03701c"
      },
      "source": [
        "### [실습문제] 공이 튕긴 횟수 구하기\n",
        "공을 일정 높이에서 떨어뜨리면, 원래 높이의 1/2만큼 튀어 오릅니다. 이를 반복하다가 높이가 0.00001m보다 낮으면 튀어 오르지 않습니다. while문을 이용하여 공이 튀어 오르는 총 횟수를 구하는 프로그램을 만들어 보세요."
      ]
    },
    {
      "cell_type": "code",
      "execution_count": null,
      "id": "1ac5675e",
      "metadata": {
        "scrolled": true,
        "id": "1ac5675e"
      },
      "outputs": [],
      "source": [
        "\n"
      ]
    },
    {
      "cell_type": "markdown",
      "id": "ecdb476f",
      "metadata": {
        "id": "ecdb476f"
      },
      "source": [
        "### [실습문제] 커피 자동주문 프로그램 업그레이드\n",
        "앞에서 만들어 본 커피 자동주문 머신 프로그램을 while문을 이용하여 돈을 모두 지불할 때까지 돈을 입력 받도록 프로그램 기능 수정하기"
      ]
    },
    {
      "cell_type": "code",
      "execution_count": null,
      "id": "2ce8fbfc",
      "metadata": {
        "scrolled": true,
        "id": "2ce8fbfc"
      },
      "outputs": [],
      "source": [
        "menu = '''[커피 자동주문 머신 메뉴]\n",
        "------------------------------\n",
        "-아메리카노는 2500원\n",
        "-카레라떼는 3000원\n",
        "-카푸치노는 3000원\n",
        "입니다. 원하시는 커피종류와 잔수를 입력하세요.\n",
        "------------------------------'''\n",
        "print(menu)\n",
        "coffee1 = int(input(\"아메리카노 몇잔?\"))\n",
        "coffee2 = int(input(\"카페라떼 몇잔?\"))\n",
        "coffee3 = int(input(\"카푸치노 몇잔?\"))\n",
        "\n",
        "total = coffee1*2500 + coffee2*3000 + coffee3*3000\n",
        "print(\"지불할 총 금액은 \", total, \"원 입니다\")\n",
        "\n",
        "\n",
        "\n",
        "\n"
      ]
    },
    {
      "cell_type": "markdown",
      "id": "af0e48ab",
      "metadata": {
        "id": "af0e48ab"
      },
      "source": [
        "## 3-3.난수(Random Variable)"
      ]
    },
    {
      "cell_type": "markdown",
      "id": "e34c55ca",
      "metadata": {
        "id": "e34c55ca"
      },
      "source": [
        "### [실습문제] 임의의 두 수 합 구하기\n",
        "1부터 10까지의 범위를 갖는 임의의 두 정수 a, b를 더하여 결과 출력하기"
      ]
    },
    {
      "cell_type": "code",
      "execution_count": null,
      "id": "3c007936",
      "metadata": {
        "id": "3c007936"
      },
      "outputs": [],
      "source": []
    },
    {
      "cell_type": "markdown",
      "id": "357e1bdd",
      "metadata": {
        "id": "357e1bdd"
      },
      "source": [
        "### [실습문제]\n",
        "주사위를 100번 던져서 나오는 숫자를 각 숫자별로 카운트하고 가장 많이 나온 숫자와 그 숫자의 횟수를 출력하시오."
      ]
    },
    {
      "cell_type": "code",
      "execution_count": null,
      "id": "782da2b4",
      "metadata": {
        "id": "782da2b4"
      },
      "outputs": [],
      "source": []
    },
    {
      "cell_type": "markdown",
      "id": "45e329e4",
      "metadata": {
        "id": "45e329e4"
      },
      "source": [
        "------------------------"
      ]
    },
    {
      "cell_type": "markdown",
      "id": "66025633",
      "metadata": {
        "id": "66025633"
      },
      "source": [
        "끝"
      ]
    }
  ],
  "metadata": {
    "kernelspec": {
      "display_name": "Python 3 (ipykernel)",
      "language": "python",
      "name": "python3"
    },
    "language_info": {
      "codemirror_mode": {
        "name": "ipython",
        "version": 3
      },
      "file_extension": ".py",
      "mimetype": "text/x-python",
      "name": "python",
      "nbconvert_exporter": "python",
      "pygments_lexer": "ipython3",
      "version": "3.10.9"
    },
    "vscode": {
      "interpreter": {
        "hash": "b41e41bff03a930185ac2cbea60ce521f7c8c2f5401ceb5c30214081f77ab4f5"
      }
    },
    "colab": {
      "provenance": [],
      "toc_visible": true,
      "include_colab_link": true
    }
  },
  "nbformat": 4,
  "nbformat_minor": 5
}