{
  "cells": [
    {
      "cell_type": "markdown",
      "metadata": {
        "id": "view-in-github",
        "colab_type": "text"
      },
      "source": [
        "<a href=\"https://colab.research.google.com/github/jiyounglee523/projectmanager/blob/main/1_%ED%8C%8C%EC%9D%B4%EC%8D%AC%EA%B8%B0%EC%B4%88_03_%EC%A1%B0%EA%B1%B4%EB%AC%B8%EB%B0%98%EB%B3%B5%EB%AC%B8_%EB%B0%B0%ED%8F%AC.ipynb\" target=\"_parent\"><img src=\"https://colab.research.google.com/assets/colab-badge.svg\" alt=\"Open In Colab\"/></a>"
      ]
    },
    {
      "cell_type": "markdown",
      "id": "25f81d8c",
      "metadata": {
        "id": "25f81d8c"
      },
      "source": [
        "# 파이썬 기초 다지기"
      ]
    },
    {
      "cell_type": "markdown",
      "id": "3f3da3bd",
      "metadata": {
        "id": "3f3da3bd"
      },
      "source": [
        "## 3- 조건문과 반복문\n",
        "데이터와 처리의 흐름을 제어하는 조건문과 반목문"
      ]
    },
    {
      "cell_type": "markdown",
      "id": "0c52a67e",
      "metadata": {
        "id": "0c52a67e"
      },
      "source": [
        "----------------------------------"
      ]
    },
    {
      "cell_type": "markdown",
      "id": "aee8f2e8",
      "metadata": {
        "id": "aee8f2e8"
      },
      "source": [
        "## 3-1.if 조건문"
      ]
    },
    {
      "cell_type": "markdown",
      "id": "e89f3546",
      "metadata": {
        "id": "e89f3546"
      },
      "source": [
        "### 조건문: if"
      ]
    },
    {
      "cell_type": "code",
      "execution_count": null,
      "id": "4f161d86",
      "metadata": {
        "colab": {
          "base_uri": "https://localhost:8080/"
        },
        "id": "4f161d86",
        "outputId": "3d406f2b-f139-43e9-fd9f-a0c724b59f9c"
      },
      "outputs": [
        {
          "output_type": "stream",
          "name": "stdout",
          "text": [
            "숫자를 입력하세요:130\n",
            "130는 100보다 크군요!\n"
          ]
        }
      ],
      "source": [
        "a = int(input('숫자를 입력하세요:'))\n",
        "if a > 100:\n",
        "    print(F'{a}는 100보다 크군요!')\n"
      ]
    },
    {
      "cell_type": "markdown",
      "id": "cb89ea65",
      "metadata": {
        "id": "cb89ea65"
      },
      "source": [
        "### 조건문: if ~ else"
      ]
    },
    {
      "cell_type": "code",
      "execution_count": null,
      "id": "6eca2413",
      "metadata": {
        "colab": {
          "base_uri": "https://localhost:8080/"
        },
        "id": "6eca2413",
        "outputId": "92b01f2b-d28c-4423-baa4-dac3752bd31b"
      },
      "outputs": [
        {
          "output_type": "stream",
          "name": "stdout",
          "text": [
            "숫자를 입력하세요:30\n",
            "30는 100보다 크지 않거나 않군요!\n"
          ]
        }
      ],
      "source": [
        "a = int(input('숫자를 입력하세요:'))\n",
        "if a > 100:\n",
        "    print(f'{a}는 100보다 크군요!')\n",
        "else:\n",
        "    print(f'{a}는 100보다 크지 않거나 않군요!')\n"
      ]
    },
    {
      "cell_type": "markdown",
      "id": "13b404bd",
      "metadata": {
        "id": "13b404bd"
      },
      "source": [
        "### 조건문 : 중첩if"
      ]
    },
    {
      "cell_type": "code",
      "execution_count": null,
      "id": "9575f530",
      "metadata": {
        "colab": {
          "base_uri": "https://localhost:8080/"
        },
        "id": "9575f530",
        "outputId": "6b2a8030-04f9-415a-eefe-7f36f1b8957b"
      },
      "outputs": [
        {
          "output_type": "stream",
          "name": "stdout",
          "text": [
            "숫자를 입력하세요:203\n",
            "203는 100보다 크군요!\n",
            "203는 200보다 크군요!\n"
          ]
        }
      ],
      "source": [
        "a = int(input('숫자를 입력하세요:'))\n",
        "if a > 100:\n",
        "    print(f'{a}는 100보다 크군요!')\n",
        "    if a>200:\n",
        "       print(f'{a}는 200보다 크군요!')\n",
        "    else:\n",
        "       print(f'{a}는 200보다 같거나 크지 않군요!')\n",
        "else:\n",
        "    if a==100:\n",
        "        print(f'{a}는 100과 같군요!')\n",
        "    else:\n",
        "        print(f'{a}는 100보다 작군요!')\n"
      ]
    },
    {
      "cell_type": "markdown",
      "source": [
        "### if~ elif ~ else~"
      ],
      "metadata": {
        "id": "mRt4LZwujJ5a"
      },
      "id": "mRt4LZwujJ5a"
    },
    {
      "cell_type": "code",
      "source": [
        "a = int(input('숫자를 입력하세요:'))\n",
        "if a > 200:\n",
        "    print(f'{a}는 200보다 크군요!')\n",
        "elif a>100:\n",
        "    print(f'{a}는 100보다 크고 200보다 작거나 같군요!')\n",
        "elif a==100:\n",
        "    print(f'{a}는 100과 같군요!')\n",
        "else:\n",
        "    print(f'{a}는 100보다 작군요!')"
      ],
      "metadata": {
        "colab": {
          "base_uri": "https://localhost:8080/"
        },
        "id": "UwiW18Kti7ro",
        "outputId": "53d501e3-2703-4874-f3a9-200aab09b3d0"
      },
      "id": "UwiW18Kti7ro",
      "execution_count": null,
      "outputs": [
        {
          "output_type": "stream",
          "name": "stdout",
          "text": [
            "숫자를 입력하세요:100\n",
            "100는 100과 같군요!\n"
          ]
        }
      ]
    },
    {
      "cell_type": "markdown",
      "id": "349dec8b",
      "metadata": {
        "id": "349dec8b"
      },
      "source": [
        "### [실습문제] 짝수/홀수 판별하기"
      ]
    },
    {
      "cell_type": "code",
      "execution_count": null,
      "id": "de48c13d",
      "metadata": {
        "colab": {
          "base_uri": "https://localhost:8080/"
        },
        "id": "de48c13d",
        "outputId": "09b010df-9df1-4653-d270-95cf6af26d18"
      },
      "outputs": [
        {
          "output_type": "stream",
          "name": "stdout",
          "text": [
            "숫자를 입력해 주세요: 5\n",
            "입력된 수: 5 ==>홀수\n"
          ]
        }
      ],
      "source": [
        "x=int(input('숫자를 입력해 주세요: '))\n",
        "\n",
        "if x%2==0 :\n",
        "  print(f'입력된 수: {x} ==>짝수')\n",
        "else :\n",
        "  print(f'입력된 수: {x} ==>홀수')\n",
        "\n",
        "\n"
      ]
    },
    {
      "cell_type": "code",
      "source": [
        "#멤버쉽 연산자 사용해서 조건문 판별하기\n",
        "a = [1,2,3,4,5]\n",
        "x = 7\n",
        "if x in a:\n",
        "  print(f'{x}는 {a} 리스트에 포함되어 있습니다. ')\n",
        "else:\n",
        "  print(f'{x}는 {a} 리스트에 포함되어 있지 않습니다. ')"
      ],
      "metadata": {
        "colab": {
          "base_uri": "https://localhost:8080/"
        },
        "id": "PEzqd2Ull-QS",
        "outputId": "0ec4a874-1d51-494b-839f-78e592f14170"
      },
      "id": "PEzqd2Ull-QS",
      "execution_count": null,
      "outputs": [
        {
          "output_type": "stream",
          "name": "stdout",
          "text": [
            "7는 [1, 2, 3, 4, 5] 리스트에 포함되어 있지 않습니다. \n"
          ]
        }
      ]
    },
    {
      "cell_type": "markdown",
      "id": "30919e6b",
      "metadata": {
        "id": "30919e6b"
      },
      "source": [
        "### [실습문제]\n",
        "피타고라스 정리에 의해 직각삼각형의 세 변의 길이에 대한 관계는 아래와 같습니다. 이 정리를 이용하여 세 변의 길이를 입력 받은 삼각형이 직각삼각형인지 아닌지 판별하는 프로그램을 만들어 보세요.\n"
      ]
    },
    {
      "cell_type": "code",
      "execution_count": null,
      "id": "f6e6ca29",
      "metadata": {
        "scrolled": false,
        "colab": {
          "base_uri": "https://localhost:8080/"
        },
        "id": "f6e6ca29",
        "outputId": "4ac090a3-8ffd-4564-a3c9-6422dea0ab5a"
      },
      "outputs": [
        {
          "output_type": "stream",
          "name": "stdout",
          "text": [
            "변 a의 길이: 1\n",
            "변 b의 길이: 2\n",
            "변 c의 길이: 2\n",
            "------------------------------\n",
            "세 변 1, 2, 2는 직각삼각형이 아닙니다.\n"
          ]
        }
      ],
      "source": [
        "# 1. 세 변의 길이 입력 받기\n",
        "a = int(input('변 a의 길이: '))\n",
        "b = int(input('변 b의 길이: '))\n",
        "c = int(input('변 c의 길이: '))  # 빗변이라 가정한다.\n",
        "print('-' * 30)  # 분리 선\n",
        "\n",
        "# 2. 직각삼각형 판별하기\n",
        "if (a**2 + b**2) == c**2:\n",
        "    print(f'세 변 {a}, {b}, {c}는 직각삼각형 입니다.')\n",
        "else:\n",
        "    print(f'세 변 {a}, {b}, {c}는 직각삼각형이 아닙니다.')\n"
      ]
    },
    {
      "cell_type": "code",
      "source": [
        "a = [1,2,3,4,5]\n",
        "print(f'{a}의 개수(길이): {len(a)}' )\n",
        "print(f'{a}의 합계  : {sum(a)}' )\n",
        "print(f'{a}의 최소값: {min(a)}' )\n",
        "print(f'{a}의 최대값: {max(a)}' )\n",
        "print(f'{a}의 평균  : {sum(a)/len(a)}' )"
      ],
      "metadata": {
        "id": "n2ry2H61sPAw"
      },
      "id": "n2ry2H61sPAw",
      "execution_count": null,
      "outputs": []
    },
    {
      "cell_type": "code",
      "source": [
        "score = int(input('성적을 입력해 주세요: '))\n",
        "print('-' * 30)\n",
        "grade = 'D'\n",
        "\n",
        "if score >= 90:\n",
        "    grade = 'A'\n",
        "elif score >= 80:\n",
        "    grade = 'B'\n",
        "elif score >= 70:\n",
        "    grade = 'C'\n",
        "\n",
        "print(f'성적: {score}점은 {grade}등급 입니다.')\n"
      ],
      "metadata": {
        "colab": {
          "base_uri": "https://localhost:8080/"
        },
        "id": "xrbNWwy5x5jb",
        "outputId": "9b4a35df-639d-4a88-f125-ed131d83e958"
      },
      "id": "xrbNWwy5x5jb",
      "execution_count": null,
      "outputs": [
        {
          "output_type": "stream",
          "name": "stdout",
          "text": [
            "성적을 입력해 주세요: 50\n",
            "------------------------------\n",
            "성적: 50점은 D등급 입니다.\n"
          ]
        }
      ]
    },
    {
      "cell_type": "code",
      "source": [
        "score = int(input('성적을 입력해 주세요: '))\n",
        "print('-' * 30)\n",
        "grade = 'D'\n",
        "\n",
        "if score >= 90: grade = 'A'\n",
        "if 80 <= score < 90: grade = 'B'\n",
        "if 70 <= score < 80: grade = 'C'\n",
        "\n",
        "print(f'성적: {score}점은 {grade}등급 입니다.')"
      ],
      "metadata": {
        "colab": {
          "base_uri": "https://localhost:8080/"
        },
        "id": "g1mds3Nqx6-M",
        "outputId": "e671b5ef-7ac2-4876-981d-18b7b0dbcd7b"
      },
      "id": "g1mds3Nqx6-M",
      "execution_count": null,
      "outputs": [
        {
          "output_type": "stream",
          "name": "stdout",
          "text": [
            "성적을 입력해 주세요: 93\n",
            "------------------------------\n",
            "성적: 93점은 A등급 입니다.\n"
          ]
        }
      ]
    },
    {
      "cell_type": "code",
      "source": [
        "temp = int(input(\"현재 온도를 넣으세요: \"))\n",
        "speaker = \"온도가 쾌적해요\"\n",
        "\n",
        "if temp >= 30:\n",
        "    speaker = \"에어컨을 켜세요\"\n",
        "elif temp < 15:\n",
        "    speaker = \"내복을 입으세요\"\n",
        "    if temp <= 10:\n",
        "        speaker = \"난방기를 켜세요\"\n",
        "\n",
        "print(f'온도 {temp}도 일때는 {speaker}')"
      ],
      "metadata": {
        "colab": {
          "base_uri": "https://localhost:8080/"
        },
        "id": "u0gHoK5v5Mkp",
        "outputId": "b5489156-2d72-436a-9d9f-e724f64be1b3"
      },
      "id": "u0gHoK5v5Mkp",
      "execution_count": null,
      "outputs": [
        {
          "output_type": "stream",
          "name": "stdout",
          "text": [
            "현재 온도를 넣으세요: 25\n",
            "온도 25도 일때는 온도가 쾌적해요\n"
          ]
        }
      ]
    },
    {
      "cell_type": "code",
      "source": [
        "### 코랩(윈도우)에서 gTTS 기능 사용하기\n",
        "\n",
        "!pip install gtts"
      ],
      "metadata": {
        "colab": {
          "base_uri": "https://localhost:8080/"
        },
        "id": "vtXJIrdl-Inf",
        "outputId": "8bb1d1aa-b6bd-4012-eb5d-d53d0754ccad"
      },
      "id": "vtXJIrdl-Inf",
      "execution_count": null,
      "outputs": [
        {
          "output_type": "stream",
          "name": "stdout",
          "text": [
            "Collecting gtts\n",
            "  Downloading gTTS-2.3.2-py3-none-any.whl (28 kB)\n",
            "Requirement already satisfied: requests<3,>=2.27 in /usr/local/lib/python3.10/dist-packages (from gtts) (2.31.0)\n",
            "Requirement already satisfied: click<8.2,>=7.1 in /usr/local/lib/python3.10/dist-packages (from gtts) (8.1.6)\n",
            "Requirement already satisfied: charset-normalizer<4,>=2 in /usr/local/lib/python3.10/dist-packages (from requests<3,>=2.27->gtts) (3.2.0)\n",
            "Requirement already satisfied: idna<4,>=2.5 in /usr/local/lib/python3.10/dist-packages (from requests<3,>=2.27->gtts) (3.4)\n",
            "Requirement already satisfied: urllib3<3,>=1.21.1 in /usr/local/lib/python3.10/dist-packages (from requests<3,>=2.27->gtts) (2.0.4)\n",
            "Requirement already satisfied: certifi>=2017.4.17 in /usr/local/lib/python3.10/dist-packages (from requests<3,>=2.27->gtts) (2023.7.22)\n",
            "Installing collected packages: gtts\n",
            "Successfully installed gtts-2.3.2\n"
          ]
        }
      ]
    },
    {
      "cell_type": "code",
      "source": [
        "from gtts import gTTS\n",
        "from IPython.display import Audio\n",
        "\n",
        "kor_wav = gTTS('안녕 여러분 hello!', lang = 'ko')\n",
        "kor_wav.save('kor.wav')\n",
        "\n",
        "display(Audio('kor.wav', autoplay=True))"
      ],
      "metadata": {
        "colab": {
          "base_uri": "https://localhost:8080/",
          "height": 74
        },
        "id": "eUrFC_1v-ZfB",
        "outputId": "5decd6bb-a43e-47ac-f46f-5dfa8c6126b5"
      },
      "id": "eUrFC_1v-ZfB",
      "execution_count": null,
      "outputs": [
        {
          "output_type": "display_data",
          "data": {
            "text/plain": [
              "<IPython.lib.display.Audio object>"
            ],
            "text/html": [
              "\n",
              "                <audio  controls=\"controls\" autoplay=\"autoplay\">\n",
              "                    <source src=\"data:audio/x-wav;base64,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\" type=\"audio/x-wav\" />\n",
              "                    Your browser does not support the audio element.\n",
              "                </audio>\n",
              "              "
            ]
          },
          "metadata": {}
        }
      ]
    },
    {
      "cell_type": "markdown",
      "id": "862598a5",
      "metadata": {
        "id": "862598a5"
      },
      "source": [
        "### [실습문제]\n",
        "아래 조건을 만족하는 커피 자동주문 머신을 만들어보세요.<br><br>\n",
        "[커피 자동주문 머신]<br>\n",
        "친구들과 현금 커피 자동주문 머신 앞에서\n",
        " - 아메리카노 2잔과 카페라테 2잔 카푸치노 1잔을 주문하였다.\n",
        " - 아메리카노 한잔에 2500원이고\n",
        " - 카페라테는 한잔에 3000원\n",
        " - 카푸치노는 한잔에 3000원이다.\n",
        "커피 종류와 잔 수를 결정한 후 현금 15000원을 투입하고 잔돈을 1000원 받았다."
      ]
    },
    {
      "cell_type": "code",
      "execution_count": null,
      "id": "0d6035c2",
      "metadata": {
        "colab": {
          "base_uri": "https://localhost:8080/"
        },
        "id": "0d6035c2",
        "outputId": "60c3e8fe-093a-4fcb-ee89-e3cb62a04a51"
      },
      "outputs": [
        {
          "output_type": "stream",
          "name": "stdout",
          "text": [
            "[커피 자동주문 머신 메뉴]\n",
            "------------------------------\n",
            "-아메리카노는 2500원\n",
            "-카레라떼는 3000원\n",
            "-카푸치노는 3000원\n",
            "입니다. 원하시는 커피종류와 잔수를 입력하세요.\n",
            "------------------------------\n",
            "아메리카노 몇잔?1\n",
            "카페라떼 몇잔?1\n",
            "카푸치노 몇잔?1\n",
            "지불할 총 금액은 8500원 입니다\n",
            "돈을 넣어주세요 ~5000\n",
            "입력한 금액이 부족합니다. 3500원을 넣어주세요\n"
          ]
        }
      ],
      "source": [
        "menu = '''[커피 자동주문 머신 메뉴]\n",
        "------------------------------\n",
        "-아메리카노는 2500원\n",
        "-카레라떼는 3000원\n",
        "-카푸치노는 3000원\n",
        "입니다. 원하시는 커피종류와 잔수를 입력하세요.\n",
        "------------------------------'''\n",
        "print(menu)\n",
        "coffee1 = int(input(\"아메리카노 몇잔?\"))\n",
        "coffee2 = int(input(\"카페라떼 몇잔?\"))\n",
        "coffee3 = int(input(\"카푸치노 몇잔?\"))\n",
        "\n",
        "tprice = coffee1 * 2500+coffee2 * 3000+coffee3 * 3000\n",
        "\n",
        "print(f'지불할 총 금액은 {tprice}원 입니다')\n",
        "payPrice = int(input('돈을 넣어주세요 ~' ))\n",
        "\n",
        "if payPrice< tprice:\n",
        "    print(f'입력한 금액이 부족합니다. {tprice-payPrice}원을 넣어주세요')\n",
        "elif payPrice> tprice:\n",
        "    print(f'거스름 돈은 {payPrice-tprice}원 입니다')\n",
        "\n",
        "\n"
      ]
    },
    {
      "cell_type": "markdown",
      "source": [
        "###간소화된 조건문 표현식"
      ],
      "metadata": {
        "id": "m7sEzhu3Gbd0"
      },
      "id": "m7sEzhu3Gbd0"
    },
    {
      "cell_type": "code",
      "source": [
        "score = int(input('점수를 입력하세요: '))\n",
        "if score >= 80:\n",
        "    message = '성공'\n",
        "else:\n",
        "  message = '실패'\n",
        "\n",
        "print(f'{score}점일 때 {message}!')"
      ],
      "metadata": {
        "colab": {
          "base_uri": "https://localhost:8080/"
        },
        "id": "ZsRJHMO6GaUQ",
        "outputId": "9ff651e6-dc85-4bc3-b120-6e71f9cfac7a"
      },
      "id": "ZsRJHMO6GaUQ",
      "execution_count": null,
      "outputs": [
        {
          "output_type": "stream",
          "name": "stdout",
          "text": [
            "점수를 입력하세요: 70\n",
            "70점일 때 실패!\n"
          ]
        }
      ]
    },
    {
      "cell_type": "code",
      "source": [
        "score = int(input('점수를 입력하세요: '))\n",
        "message = '성공' if score >=80 else '실패'\n",
        "print(f\"{score}점일 때 {'성공' if score >=80 else '실패'}!\")"
      ],
      "metadata": {
        "colab": {
          "base_uri": "https://localhost:8080/"
        },
        "id": "R3Zt5l65HAXY",
        "outputId": "a6d0b6e7-4327-4f96-8262-b78fc71efa55"
      },
      "id": "R3Zt5l65HAXY",
      "execution_count": null,
      "outputs": [
        {
          "output_type": "stream",
          "name": "stdout",
          "text": [
            "점수를 입력하세요: 80\n",
            "80점일 때 성공!\n"
          ]
        }
      ]
    },
    {
      "cell_type": "markdown",
      "id": "67412428",
      "metadata": {
        "id": "67412428"
      },
      "source": [
        "## 3-2.반복문"
      ]
    },
    {
      "cell_type": "markdown",
      "id": "44197774",
      "metadata": {
        "id": "44197774"
      },
      "source": [
        "### 반복문: for 반복문"
      ]
    },
    {
      "cell_type": "markdown",
      "source": [
        "###1. range()함수 사용하여 반복하기"
      ],
      "metadata": {
        "id": "hkIgWNMHJm1Y"
      },
      "id": "hkIgWNMHJm1Y"
    },
    {
      "cell_type": "code",
      "execution_count": null,
      "id": "9f69ecc4",
      "metadata": {
        "scrolled": true,
        "colab": {
          "base_uri": "https://localhost:8080/"
        },
        "id": "9f69ecc4",
        "outputId": "4f1a5fd3-e00b-4866-f96f-6ec5255a25d7"
      },
      "outputs": [
        {
          "output_type": "stream",
          "name": "stdout",
          "text": [
            "1 번째 for 반복문입니다. \n",
            "2 번째 for 반복문입니다. \n",
            "3 번째 for 반복문입니다. \n"
          ]
        }
      ],
      "source": [
        "#for i in range(0,3, 1):\n",
        "#for i in range(0,3):\n",
        "for i in range(3):\n",
        "    print(i+1, '번째 for 반복문입니다. ')"
      ]
    },
    {
      "cell_type": "markdown",
      "source": [
        "### 2. 문자열 길이를 이용하여 반복하기"
      ],
      "metadata": {
        "id": "y_xi66PnKBbd"
      },
      "id": "y_xi66PnKBbd"
    },
    {
      "cell_type": "code",
      "source": [
        "사과 = 'apple'\n",
        "for i in 사과:\n",
        "    print(f'{i} 사과입니다. ')"
      ],
      "metadata": {
        "colab": {
          "base_uri": "https://localhost:8080/"
        },
        "id": "hgS_cRTIKF2z",
        "outputId": "095a7538-195f-423d-c2e7-6ff7b63590eb"
      },
      "id": "hgS_cRTIKF2z",
      "execution_count": null,
      "outputs": [
        {
          "output_type": "stream",
          "name": "stdout",
          "text": [
            "a 사과입니다. \n",
            "p 사과입니다. \n",
            "p 사과입니다. \n",
            "l 사과입니다. \n",
            "e 사과입니다. \n"
          ]
        }
      ]
    },
    {
      "cell_type": "markdown",
      "source": [
        "### 3. 리스트를 이용하여 반복하기"
      ],
      "metadata": {
        "id": "-yRyjal-LQeB"
      },
      "id": "-yRyjal-LQeB"
    },
    {
      "cell_type": "code",
      "source": [
        "fruits = ['포도', '사과', '오렌지', '바나나', '체리']\n",
        "for fruit in fruits:\n",
        "  print(f'내가 좋아하는 과일 {fruit}!')"
      ],
      "metadata": {
        "colab": {
          "base_uri": "https://localhost:8080/"
        },
        "id": "Ood9dFwGLU0v",
        "outputId": "04d5e4a2-a66e-4dec-f3da-4a74d8ce486c"
      },
      "id": "Ood9dFwGLU0v",
      "execution_count": null,
      "outputs": [
        {
          "output_type": "stream",
          "name": "stdout",
          "text": [
            "내가 좋아하는 과일 포도!\n",
            "내가 좋아하는 과일 사과!\n",
            "내가 좋아하는 과일 오렌지바나나!\n",
            "내가 좋아하는 과일 체리!\n"
          ]
        }
      ]
    },
    {
      "cell_type": "code",
      "source": [
        "fruits = ['포도', '사과', '오렌지', '바나나', '체리']\n",
        "print('내가 좋아하는 과일은 ')\n",
        "for fruit in fruits:\n",
        "  print(fruit, end=' ')"
      ],
      "metadata": {
        "colab": {
          "base_uri": "https://localhost:8080/"
        },
        "id": "Wiv_L20mL9Qf",
        "outputId": "b4ea8de9-1ab6-42d3-8d15-21ae78d5377c"
      },
      "id": "Wiv_L20mL9Qf",
      "execution_count": null,
      "outputs": [
        {
          "output_type": "stream",
          "name": "stdout",
          "text": [
            "내가 좋아하는 과일은 \n",
            "포도 사과 오렌지 바나나 체리 "
          ]
        }
      ]
    },
    {
      "cell_type": "markdown",
      "id": "8288e636",
      "metadata": {
        "id": "8288e636"
      },
      "source": [
        "### [실습문제]\n",
        "키보드로 양의 정수(n)을 입력 받아 1~n까지의 합을 구하는 프로그램을 만들어 보세요."
      ]
    },
    {
      "cell_type": "code",
      "execution_count": null,
      "id": "d6774150",
      "metadata": {
        "colab": {
          "base_uri": "https://localhost:8080/"
        },
        "id": "d6774150",
        "outputId": "a4e59c21-be2c-426f-cfbf-b083d11135c7"
      },
      "outputs": [
        {
          "output_type": "stream",
          "name": "stdout",
          "text": [
            "숫자를 입력하세요.5\n",
            "0+1\n",
            "=1\n",
            "1+2\n",
            "=3\n",
            "3+3\n",
            "=6\n",
            "6+4\n",
            "=10\n",
            "10+5\n",
            "=15\n",
            "1~5까지의 합은 15입니다.\n"
          ]
        }
      ],
      "source": [
        "# 1. 숫자 N을 입력하세요.\n",
        "n= int(input('숫자를 입력하세요.'))\n",
        "\n",
        "# 2. 1~N까지 합계를 구하세요.\n",
        "sum=0\n",
        "\n",
        "for i in range(1, n+1, 1):\n",
        "    print(f'{sum}+{i}')\n",
        "    sum =sum+i\n",
        "    print(f'={sum}')\n",
        "print(f'1~{n}까지의 합은 {sum}입니다.')"
      ]
    },
    {
      "cell_type": "markdown",
      "id": "aae06acb",
      "metadata": {
        "id": "aae06acb"
      },
      "source": [
        "### [실습문제]\n",
        "키보드로 양의 정수(n)을 입력 받아 1~n까지의 합을 구할 때 짝수를 제외하고 합을 구하는 프로그램을 만들어 보세요."
      ]
    },
    {
      "cell_type": "code",
      "execution_count": null,
      "id": "c87285cf",
      "metadata": {
        "colab": {
          "base_uri": "https://localhost:8080/"
        },
        "id": "c87285cf",
        "outputId": "7d93c38a-2ee0-4e0d-b426-809d8be4dc23"
      },
      "outputs": [
        {
          "output_type": "stream",
          "name": "stdout",
          "text": [
            "숫자를 입력하세요: 50\n",
            "1~50까지 짝수 제외한 합은 625입니다.\n"
          ]
        }
      ],
      "source": [
        "n=int(input('숫자를 입력하세요: '))\n",
        "sum = 0\n",
        "for i in range(1, n+1, 2):\n",
        "      sum = sum+i\n",
        "print(f'1~{n}까지 짝수 제외한 합은 {sum}입니다.')"
      ]
    },
    {
      "cell_type": "code",
      "source": [
        "n = int(input('숫자를 입력하세요: '))\n",
        "hap = 0\n",
        "for i in range(1,n+1,1):\n",
        "    if i%2 == 0 :  # 짝수\n",
        "        continue   # skip=pass 의미\n",
        "    else:\n",
        "        hap = hap + i\n",
        "print(f'1~{n}까지 합은 {hap}입니다.')"
      ],
      "metadata": {
        "id": "W9r0CfJZRKZE"
      },
      "id": "W9r0CfJZRKZE",
      "execution_count": null,
      "outputs": []
    },
    {
      "cell_type": "code",
      "source": [
        "import turtle\n",
        "\n",
        "t=turtle.Pen()    # 펜블럭\n",
        "\n",
        "t.shape('turtle') # 커서 모양\n",
        "t.color('blue')    # 선 색생\n",
        "t.pensize(5)      # 선 굵기\n",
        "\n",
        "for i in range(5):\n",
        "    t.forward(100)\n",
        "    t.right(360/5)\n",
        "\n",
        "turtle.exitonclick()"
      ],
      "metadata": {
        "colab": {
          "base_uri": "https://localhost:8080/",
          "height": 406
        },
        "id": "8yAAk7wvWIqj",
        "outputId": "550cb6a4-a485-4f46-c6ab-8769fe68c450"
      },
      "id": "8yAAk7wvWIqj",
      "execution_count": null,
      "outputs": [
        {
          "output_type": "error",
          "ename": "TclError",
          "evalue": "ignored",
          "traceback": [
            "\u001b[0;31m---------------------------------------------------------------------------\u001b[0m",
            "\u001b[0;31mTclError\u001b[0m                                  Traceback (most recent call last)",
            "\u001b[0;32m<ipython-input-53-950835dbda7b>\u001b[0m in \u001b[0;36m<cell line: 3>\u001b[0;34m()\u001b[0m\n\u001b[1;32m      1\u001b[0m \u001b[0;32mimport\u001b[0m \u001b[0mturtle\u001b[0m\u001b[0;34m\u001b[0m\u001b[0;34m\u001b[0m\u001b[0m\n\u001b[1;32m      2\u001b[0m \u001b[0;34m\u001b[0m\u001b[0m\n\u001b[0;32m----> 3\u001b[0;31m \u001b[0mt\u001b[0m\u001b[0;34m=\u001b[0m\u001b[0mturtle\u001b[0m\u001b[0;34m.\u001b[0m\u001b[0mPen\u001b[0m\u001b[0;34m(\u001b[0m\u001b[0;34m)\u001b[0m    \u001b[0;31m# 펜블럭\u001b[0m\u001b[0;34m\u001b[0m\u001b[0;34m\u001b[0m\u001b[0m\n\u001b[0m\u001b[1;32m      4\u001b[0m \u001b[0;34m\u001b[0m\u001b[0m\n\u001b[1;32m      5\u001b[0m \u001b[0mt\u001b[0m\u001b[0;34m.\u001b[0m\u001b[0mshape\u001b[0m\u001b[0;34m(\u001b[0m\u001b[0;34m'turtle'\u001b[0m\u001b[0;34m)\u001b[0m \u001b[0;31m# 커서 모양\u001b[0m\u001b[0;34m\u001b[0m\u001b[0;34m\u001b[0m\u001b[0m\n",
            "\u001b[0;32m/usr/lib/python3.10/turtle.py\u001b[0m in \u001b[0;36m__init__\u001b[0;34m(self, shape, undobuffersize, visible)\u001b[0m\n\u001b[1;32m   3812\u001b[0m                  visible=_CFG[\"visible\"]):\n\u001b[1;32m   3813\u001b[0m         \u001b[0;32mif\u001b[0m \u001b[0mTurtle\u001b[0m\u001b[0;34m.\u001b[0m\u001b[0m_screen\u001b[0m \u001b[0;32mis\u001b[0m \u001b[0;32mNone\u001b[0m\u001b[0;34m:\u001b[0m\u001b[0;34m\u001b[0m\u001b[0;34m\u001b[0m\u001b[0m\n\u001b[0;32m-> 3814\u001b[0;31m             \u001b[0mTurtle\u001b[0m\u001b[0;34m.\u001b[0m\u001b[0m_screen\u001b[0m \u001b[0;34m=\u001b[0m \u001b[0mScreen\u001b[0m\u001b[0;34m(\u001b[0m\u001b[0;34m)\u001b[0m\u001b[0;34m\u001b[0m\u001b[0;34m\u001b[0m\u001b[0m\n\u001b[0m\u001b[1;32m   3815\u001b[0m         RawTurtle.__init__(self, Turtle._screen,\n\u001b[1;32m   3816\u001b[0m                            \u001b[0mshape\u001b[0m\u001b[0;34m=\u001b[0m\u001b[0mshape\u001b[0m\u001b[0;34m,\u001b[0m\u001b[0;34m\u001b[0m\u001b[0;34m\u001b[0m\u001b[0m\n",
            "\u001b[0;32m/usr/lib/python3.10/turtle.py\u001b[0m in \u001b[0;36mScreen\u001b[0;34m()\u001b[0m\n\u001b[1;32m   3662\u001b[0m     else return the existing one.\"\"\"\n\u001b[1;32m   3663\u001b[0m     \u001b[0;32mif\u001b[0m \u001b[0mTurtle\u001b[0m\u001b[0;34m.\u001b[0m\u001b[0m_screen\u001b[0m \u001b[0;32mis\u001b[0m \u001b[0;32mNone\u001b[0m\u001b[0;34m:\u001b[0m\u001b[0;34m\u001b[0m\u001b[0;34m\u001b[0m\u001b[0m\n\u001b[0;32m-> 3664\u001b[0;31m         \u001b[0mTurtle\u001b[0m\u001b[0;34m.\u001b[0m\u001b[0m_screen\u001b[0m \u001b[0;34m=\u001b[0m \u001b[0m_Screen\u001b[0m\u001b[0;34m(\u001b[0m\u001b[0;34m)\u001b[0m\u001b[0;34m\u001b[0m\u001b[0;34m\u001b[0m\u001b[0m\n\u001b[0m\u001b[1;32m   3665\u001b[0m     \u001b[0;32mreturn\u001b[0m \u001b[0mTurtle\u001b[0m\u001b[0;34m.\u001b[0m\u001b[0m_screen\u001b[0m\u001b[0;34m\u001b[0m\u001b[0;34m\u001b[0m\u001b[0m\n\u001b[1;32m   3666\u001b[0m \u001b[0;34m\u001b[0m\u001b[0m\n",
            "\u001b[0;32m/usr/lib/python3.10/turtle.py\u001b[0m in \u001b[0;36m__init__\u001b[0;34m(self)\u001b[0m\n\u001b[1;32m   3678\u001b[0m         \u001b[0;31m# preserved (perhaps by passing it as an optional parameter)\u001b[0m\u001b[0;34m\u001b[0m\u001b[0;34m\u001b[0m\u001b[0m\n\u001b[1;32m   3679\u001b[0m         \u001b[0;32mif\u001b[0m \u001b[0m_Screen\u001b[0m\u001b[0;34m.\u001b[0m\u001b[0m_root\u001b[0m \u001b[0;32mis\u001b[0m \u001b[0;32mNone\u001b[0m\u001b[0;34m:\u001b[0m\u001b[0;34m\u001b[0m\u001b[0;34m\u001b[0m\u001b[0m\n\u001b[0;32m-> 3680\u001b[0;31m             \u001b[0m_Screen\u001b[0m\u001b[0;34m.\u001b[0m\u001b[0m_root\u001b[0m \u001b[0;34m=\u001b[0m \u001b[0mself\u001b[0m\u001b[0;34m.\u001b[0m\u001b[0m_root\u001b[0m \u001b[0;34m=\u001b[0m \u001b[0m_Root\u001b[0m\u001b[0;34m(\u001b[0m\u001b[0;34m)\u001b[0m\u001b[0;34m\u001b[0m\u001b[0;34m\u001b[0m\u001b[0m\n\u001b[0m\u001b[1;32m   3681\u001b[0m             \u001b[0mself\u001b[0m\u001b[0;34m.\u001b[0m\u001b[0m_root\u001b[0m\u001b[0;34m.\u001b[0m\u001b[0mtitle\u001b[0m\u001b[0;34m(\u001b[0m\u001b[0m_Screen\u001b[0m\u001b[0;34m.\u001b[0m\u001b[0m_title\u001b[0m\u001b[0;34m)\u001b[0m\u001b[0;34m\u001b[0m\u001b[0;34m\u001b[0m\u001b[0m\n\u001b[1;32m   3682\u001b[0m             \u001b[0mself\u001b[0m\u001b[0;34m.\u001b[0m\u001b[0m_root\u001b[0m\u001b[0;34m.\u001b[0m\u001b[0mondestroy\u001b[0m\u001b[0;34m(\u001b[0m\u001b[0mself\u001b[0m\u001b[0;34m.\u001b[0m\u001b[0m_destroy\u001b[0m\u001b[0;34m)\u001b[0m\u001b[0;34m\u001b[0m\u001b[0;34m\u001b[0m\u001b[0m\n",
            "\u001b[0;32m/usr/lib/python3.10/turtle.py\u001b[0m in \u001b[0;36m__init__\u001b[0;34m(self)\u001b[0m\n\u001b[1;32m    433\u001b[0m     \u001b[0;34m\"\"\"Root class for Screen based on Tkinter.\"\"\"\u001b[0m\u001b[0;34m\u001b[0m\u001b[0;34m\u001b[0m\u001b[0m\n\u001b[1;32m    434\u001b[0m     \u001b[0;32mdef\u001b[0m \u001b[0m__init__\u001b[0m\u001b[0;34m(\u001b[0m\u001b[0mself\u001b[0m\u001b[0;34m)\u001b[0m\u001b[0;34m:\u001b[0m\u001b[0;34m\u001b[0m\u001b[0;34m\u001b[0m\u001b[0m\n\u001b[0;32m--> 435\u001b[0;31m         \u001b[0mTK\u001b[0m\u001b[0;34m.\u001b[0m\u001b[0mTk\u001b[0m\u001b[0;34m.\u001b[0m\u001b[0m__init__\u001b[0m\u001b[0;34m(\u001b[0m\u001b[0mself\u001b[0m\u001b[0;34m)\u001b[0m\u001b[0;34m\u001b[0m\u001b[0;34m\u001b[0m\u001b[0m\n\u001b[0m\u001b[1;32m    436\u001b[0m \u001b[0;34m\u001b[0m\u001b[0m\n\u001b[1;32m    437\u001b[0m     \u001b[0;32mdef\u001b[0m \u001b[0msetupcanvas\u001b[0m\u001b[0;34m(\u001b[0m\u001b[0mself\u001b[0m\u001b[0;34m,\u001b[0m \u001b[0mwidth\u001b[0m\u001b[0;34m,\u001b[0m \u001b[0mheight\u001b[0m\u001b[0;34m,\u001b[0m \u001b[0mcwidth\u001b[0m\u001b[0;34m,\u001b[0m \u001b[0mcheight\u001b[0m\u001b[0;34m)\u001b[0m\u001b[0;34m:\u001b[0m\u001b[0;34m\u001b[0m\u001b[0;34m\u001b[0m\u001b[0m\n",
            "\u001b[0;32m/usr/lib/python3.10/tkinter/__init__.py\u001b[0m in \u001b[0;36m__init__\u001b[0;34m(self, screenName, baseName, className, useTk, sync, use)\u001b[0m\n\u001b[1;32m   2297\u001b[0m                 \u001b[0mbaseName\u001b[0m \u001b[0;34m=\u001b[0m \u001b[0mbaseName\u001b[0m \u001b[0;34m+\u001b[0m \u001b[0mext\u001b[0m\u001b[0;34m\u001b[0m\u001b[0;34m\u001b[0m\u001b[0m\n\u001b[1;32m   2298\u001b[0m         \u001b[0minteractive\u001b[0m \u001b[0;34m=\u001b[0m \u001b[0;32mFalse\u001b[0m\u001b[0;34m\u001b[0m\u001b[0;34m\u001b[0m\u001b[0m\n\u001b[0;32m-> 2299\u001b[0;31m         \u001b[0mself\u001b[0m\u001b[0;34m.\u001b[0m\u001b[0mtk\u001b[0m \u001b[0;34m=\u001b[0m \u001b[0m_tkinter\u001b[0m\u001b[0;34m.\u001b[0m\u001b[0mcreate\u001b[0m\u001b[0;34m(\u001b[0m\u001b[0mscreenName\u001b[0m\u001b[0;34m,\u001b[0m \u001b[0mbaseName\u001b[0m\u001b[0;34m,\u001b[0m \u001b[0mclassName\u001b[0m\u001b[0;34m,\u001b[0m \u001b[0minteractive\u001b[0m\u001b[0;34m,\u001b[0m \u001b[0mwantobjects\u001b[0m\u001b[0;34m,\u001b[0m \u001b[0museTk\u001b[0m\u001b[0;34m,\u001b[0m \u001b[0msync\u001b[0m\u001b[0;34m,\u001b[0m \u001b[0muse\u001b[0m\u001b[0;34m)\u001b[0m\u001b[0;34m\u001b[0m\u001b[0;34m\u001b[0m\u001b[0m\n\u001b[0m\u001b[1;32m   2300\u001b[0m         \u001b[0;32mif\u001b[0m \u001b[0museTk\u001b[0m\u001b[0;34m:\u001b[0m\u001b[0;34m\u001b[0m\u001b[0;34m\u001b[0m\u001b[0m\n\u001b[1;32m   2301\u001b[0m             \u001b[0mself\u001b[0m\u001b[0;34m.\u001b[0m\u001b[0m_loadtk\u001b[0m\u001b[0;34m(\u001b[0m\u001b[0;34m)\u001b[0m\u001b[0;34m\u001b[0m\u001b[0;34m\u001b[0m\u001b[0m\n",
            "\u001b[0;31mTclError\u001b[0m: no display name and no $DISPLAY environment variable"
          ]
        }
      ]
    },
    {
      "cell_type": "code",
      "source": [
        "# 방법2:\n",
        "import turtle\n",
        "\n",
        "t=turtle.Turtle()\n",
        "# t.up()\n",
        "# t.goto(-30, 50)\n",
        "# t.down()\n",
        "\n",
        "def honeycomb(): # 벌집 그리기\n",
        "    for i in range(6):\n",
        "        for _ in range(6):\n",
        "            t.forward(100)\n",
        "            t.left(60)\n",
        "        t.forward(100)\n",
        "        t.right(60)\n",
        "\n",
        "honeycomb()\n",
        "turtle.exitonclick()"
      ],
      "metadata": {
        "id": "rXEGkXYiWJiO"
      },
      "id": "rXEGkXYiWJiO",
      "execution_count": null,
      "outputs": []
    },
    {
      "cell_type": "markdown",
      "id": "ac62e6f7",
      "metadata": {
        "id": "ac62e6f7"
      },
      "source": [
        "### 반복문: while 반복문"
      ]
    },
    {
      "cell_type": "code",
      "execution_count": null,
      "id": "f2fb3ce9",
      "metadata": {
        "colab": {
          "base_uri": "https://localhost:8080/",
          "height": 515
        },
        "id": "f2fb3ce9",
        "outputId": "69533fdb-9542-40bd-c5be-9cfe39658b8b"
      },
      "outputs": [
        {
          "output_type": "stream",
          "name": "stdout",
          "text": [
            "더할 첫 번째 숫자: 3\n",
            "더할 두 번째 숫자: 2\n",
            "3 + 2 = 5\n",
            "더할 첫 번째 숫자: 1\n",
            "더할 두 번째 숫자: 2\n",
            "1 + 2 = 3\n"
          ]
        },
        {
          "output_type": "error",
          "ename": "KeyboardInterrupt",
          "evalue": "ignored",
          "traceback": [
            "\u001b[0;31m---------------------------------------------------------------------------\u001b[0m",
            "\u001b[0;31mKeyboardInterrupt\u001b[0m                         Traceback (most recent call last)",
            "\u001b[0;32m<ipython-input-54-a595da4268fb>\u001b[0m in \u001b[0;36m<cell line: 3>\u001b[0;34m()\u001b[0m\n\u001b[1;32m      2\u001b[0m \u001b[0;34m\u001b[0m\u001b[0m\n\u001b[1;32m      3\u001b[0m \u001b[0;32mwhile\u001b[0m \u001b[0;32mTrue\u001b[0m\u001b[0;34m:\u001b[0m\u001b[0;34m\u001b[0m\u001b[0;34m\u001b[0m\u001b[0m\n\u001b[0;32m----> 4\u001b[0;31m     \u001b[0mnum1\u001b[0m \u001b[0;34m=\u001b[0m \u001b[0mint\u001b[0m\u001b[0;34m(\u001b[0m\u001b[0minput\u001b[0m\u001b[0;34m(\u001b[0m\u001b[0;34m\"더할 첫 번째 숫자: \"\u001b[0m\u001b[0;34m)\u001b[0m\u001b[0;34m)\u001b[0m\u001b[0;34m\u001b[0m\u001b[0;34m\u001b[0m\u001b[0m\n\u001b[0m\u001b[1;32m      5\u001b[0m     \u001b[0;32mif\u001b[0m \u001b[0mnum1\u001b[0m \u001b[0;34m==\u001b[0m \u001b[0;36m0\u001b[0m\u001b[0;34m:\u001b[0m\u001b[0;34m\u001b[0m\u001b[0;34m\u001b[0m\u001b[0m\n\u001b[1;32m      6\u001b[0m         \u001b[0;32mbreak\u001b[0m\u001b[0;34m\u001b[0m\u001b[0;34m\u001b[0m\u001b[0m\n",
            "\u001b[0;32m/usr/local/lib/python3.10/dist-packages/ipykernel/kernelbase.py\u001b[0m in \u001b[0;36mraw_input\u001b[0;34m(self, prompt)\u001b[0m\n\u001b[1;32m    849\u001b[0m                 \u001b[0;34m\"raw_input was called, but this frontend does not support input requests.\"\u001b[0m\u001b[0;34m\u001b[0m\u001b[0;34m\u001b[0m\u001b[0m\n\u001b[1;32m    850\u001b[0m             )\n\u001b[0;32m--> 851\u001b[0;31m         return self._input_request(str(prompt),\n\u001b[0m\u001b[1;32m    852\u001b[0m             \u001b[0mself\u001b[0m\u001b[0;34m.\u001b[0m\u001b[0m_parent_ident\u001b[0m\u001b[0;34m,\u001b[0m\u001b[0;34m\u001b[0m\u001b[0;34m\u001b[0m\u001b[0m\n\u001b[1;32m    853\u001b[0m             \u001b[0mself\u001b[0m\u001b[0;34m.\u001b[0m\u001b[0m_parent_header\u001b[0m\u001b[0;34m,\u001b[0m\u001b[0;34m\u001b[0m\u001b[0;34m\u001b[0m\u001b[0m\n",
            "\u001b[0;32m/usr/local/lib/python3.10/dist-packages/ipykernel/kernelbase.py\u001b[0m in \u001b[0;36m_input_request\u001b[0;34m(self, prompt, ident, parent, password)\u001b[0m\n\u001b[1;32m    893\u001b[0m             \u001b[0;32mexcept\u001b[0m \u001b[0mKeyboardInterrupt\u001b[0m\u001b[0;34m:\u001b[0m\u001b[0;34m\u001b[0m\u001b[0;34m\u001b[0m\u001b[0m\n\u001b[1;32m    894\u001b[0m                 \u001b[0;31m# re-raise KeyboardInterrupt, to truncate traceback\u001b[0m\u001b[0;34m\u001b[0m\u001b[0;34m\u001b[0m\u001b[0m\n\u001b[0;32m--> 895\u001b[0;31m                 \u001b[0;32mraise\u001b[0m \u001b[0mKeyboardInterrupt\u001b[0m\u001b[0;34m(\u001b[0m\u001b[0;34m\"Interrupted by user\"\u001b[0m\u001b[0;34m)\u001b[0m \u001b[0;32mfrom\u001b[0m \u001b[0;32mNone\u001b[0m\u001b[0;34m\u001b[0m\u001b[0;34m\u001b[0m\u001b[0m\n\u001b[0m\u001b[1;32m    896\u001b[0m             \u001b[0;32mexcept\u001b[0m \u001b[0mException\u001b[0m \u001b[0;32mas\u001b[0m \u001b[0me\u001b[0m\u001b[0;34m:\u001b[0m\u001b[0;34m\u001b[0m\u001b[0;34m\u001b[0m\u001b[0m\n\u001b[1;32m    897\u001b[0m                 \u001b[0mself\u001b[0m\u001b[0;34m.\u001b[0m\u001b[0mlog\u001b[0m\u001b[0;34m.\u001b[0m\u001b[0mwarning\u001b[0m\u001b[0;34m(\u001b[0m\u001b[0;34m\"Invalid Message:\"\u001b[0m\u001b[0;34m,\u001b[0m \u001b[0mexc_info\u001b[0m\u001b[0;34m=\u001b[0m\u001b[0;32mTrue\u001b[0m\u001b[0;34m)\u001b[0m\u001b[0;34m\u001b[0m\u001b[0;34m\u001b[0m\u001b[0m\n",
            "\u001b[0;31mKeyboardInterrupt\u001b[0m: Interrupted by user"
          ]
        }
      ],
      "source": [
        "num1, num2 = 1, 1\n",
        "\n",
        "while num1 !=0:\n",
        "    num1 = int(input(\"더할 첫 번째 숫자: \"))\n",
        "    num2 = int(input(\"더할 두 번째 숫자: \"))\n",
        "    print(f'{num1} + {num2} = {num1 + num2}')\n",
        "    if num1 == 0:\n",
        "        break\n",
        "\n",
        "    num2 = int(input(\"더할 두 번째 숫자: \"))\n",
        "\n",
        "\n",
        "\n",
        "print(\"0을 입력해서 반복문을 탈출했습니다.\")"
      ]
    },
    {
      "cell_type": "markdown",
      "id": "02a797a4",
      "metadata": {
        "id": "02a797a4"
      },
      "source": [
        "### [실습문제] 도둑잡기 게임 만들기\n",
        "경찰에 쫓기던 범인이 3개의 방 중에 한 곳에 숨어버렸습니다. 범인은 방문을 열 때마다 무작위로 3개의 방 중 하나의 방으로 이동합니다. 3개의 방 중 하나의 방을 선택했을 때 범인이 있다면 100점, 없을 때 -10점을 부여하고 범인을 잡으면 게임을 종료하는 프로그램을 만들어 보세요."
      ]
    },
    {
      "cell_type": "code",
      "execution_count": null,
      "id": "e08b9dc4",
      "metadata": {
        "colab": {
          "base_uri": "https://localhost:8080/"
        },
        "id": "e08b9dc4",
        "outputId": "8cd16c42-495e-405a-f519-c8bbc0dce6cd"
      },
      "outputs": [
        {
          "output_type": "stream",
          "name": "stdout",
          "text": [
            "도둑이 숨은 방 번호는?(1,2,3): 3\n",
            "이 방에는 도둑이 없습니다.\n",
            "도둑이 숨은 방 번호는?(1,2,3): 2\n",
            "찾았다! 도둑이 있는 방입니다.\n",
            "게임이 종료됩니다.\n",
            "도둑이 있는 방은 2번 방입니다. 점수는 90점!\n"
          ]
        }
      ],
      "source": [
        "import random\n",
        "score = 0\n",
        "while True:\n",
        "    room = random.randint(1, 3) # 1~3정수 중 임의의 수 선택\n",
        "    n = int(input('도둑이 숨은 방 번호는?(1,2,3): '))\n",
        "    # 비교\n",
        "    if n == room :\n",
        "        print('찾았다! 도둑이 있는 방입니다.')\n",
        "        score = score + 100 # socre += 100\n",
        "        break\n",
        "    else:\n",
        "        print('이 방에는 도둑이 없습니다.')\n",
        "        score -= 10\n",
        "print('게임이 종료됩니다.')\n",
        "print(f'도둑이 있는 방은 {room}번 방입니다. 점수는 {score}점!')\n"
      ]
    },
    {
      "cell_type": "markdown",
      "id": "0d03701c",
      "metadata": {
        "id": "0d03701c"
      },
      "source": [
        "### [실습문제] 공이 튕긴 횟수 구하기\n",
        "공을 일정 높이에서 떨어뜨리면, 원래 높이의 1/2만큼 튀어 오릅니다. 이를 반복하다가 높이가 0.00001m보다 낮으면 튀어 오르지 않습니다. while문을 이용하여 공이 튀어 오르는 총 횟수를 구하는 프로그램을 만들어 보세요."
      ]
    },
    {
      "cell_type": "code",
      "execution_count": 10,
      "id": "1ac5675e",
      "metadata": {
        "scrolled": true,
        "id": "1ac5675e",
        "colab": {
          "base_uri": "https://localhost:8080/"
        },
        "outputId": "f9282b30-86f9-48ae-e142-68aa26f17db0"
      },
      "outputs": [
        {
          "output_type": "stream",
          "name": "stdout",
          "text": [
            "공의 높이를 입력하세요(meter) : 10\n",
            "5.0 1\n",
            "2.5 2\n",
            "1.25 3\n",
            "0.625 4\n",
            "0.3125 5\n",
            "0.15625 6\n",
            "0.078125 7\n",
            "0.0390625 8\n",
            "0.01953125 9\n",
            "0.009765625 10\n",
            "0.0048828125 11\n",
            "0.00244140625 12\n",
            "0.001220703125 13\n",
            "0.0006103515625 14\n",
            "0.00030517578125 15\n",
            "0.000152587890625 16\n",
            "7.62939453125e-05 17\n",
            "3.814697265625e-05 18\n",
            "1.9073486328125e-05 19\n",
            "9.5367431640625e-06 20\n",
            "--------------------------------------------------\n",
            "10 위치에서 공의 튕긴 횟수는 총 20번 입니다.\n"
          ]
        }
      ],
      "source": [
        "length = int(input('공의 높이를 입력하세요(meter) : '))\n",
        "\n",
        "cnt, meter = 0, length\n",
        "\n",
        "while True:\n",
        "  meter = meter/2\n",
        "  cnt+=1\n",
        "  print(meter, cnt)\n",
        "  if meter < 0.00001:\n",
        "      break\n",
        "\n",
        "print('-'*50)\n",
        "print(f'{length} 위치에서 공의 튕긴 횟수는 총 {cnt}번 입니다.')\n",
        "\n"
      ]
    },
    {
      "cell_type": "markdown",
      "id": "ecdb476f",
      "metadata": {
        "id": "ecdb476f"
      },
      "source": [
        "### [실습문제] 커피 자동주문 프로그램 업그레이드\n",
        "앞에서 만들어 본 커피 자동주문 머신 프로그램을 while문을 이용하여 돈을 모두 지불할 때까지 돈을 입력 받도록 프로그램 기능 수정하기"
      ]
    },
    {
      "cell_type": "code",
      "execution_count": null,
      "id": "2ce8fbfc",
      "metadata": {
        "scrolled": true,
        "colab": {
          "base_uri": "https://localhost:8080/"
        },
        "id": "2ce8fbfc",
        "outputId": "ab9b0211-6a3e-4739-9f7d-5bb55d2e0752"
      },
      "outputs": [
        {
          "output_type": "stream",
          "name": "stdout",
          "text": [
            "[커피 자동주문 머신 메뉴]\n",
            "------------------------------\n",
            "-아메리카노는 2500원\n",
            "-카레라떼는 3000원\n",
            "-카푸치노는 3000원\n",
            "입니다. 원하시는 커피종류와 잔수를 입력하세요.\n",
            "------------------------------\n",
            "아메리카노 몇잔?1\n",
            "카페라떼 몇잔?1\n",
            "카푸치노 몇잔?1\n",
            "지불할 총 금액은  8500 원 입니다\n",
            "--------------------------------------------------\n",
            "[지불할 금액:8500] : 돈을 넣어주세요: 1000\n",
            "입력한 금액이 부족합니다. 7500원을 더 넣어주세요. \n",
            "--------------------------------------------------\n",
            "[지불할 금액:7500] : 돈을 넣어주세요: 2000\n",
            "입력한 금액이 부족합니다. 5500원을 더 넣어주세요. \n",
            "--------------------------------------------------\n",
            "[지불할 금액:5500] : 돈을 넣어주세요: 3000\n",
            "입력한 금액이 부족합니다. 2500원을 더 넣어주세요. \n",
            "--------------------------------------------------\n",
            "[지불할 금액:2500] : 돈을 넣어주세요: 3000\n",
            "거스름돈은 500원 입니다.\n",
            "--------------------------------------------------\n",
            " 커피 맛있게 드세요. \n"
          ]
        }
      ],
      "source": [
        "menu = '''[커피 자동주문 머신 메뉴]\n",
        "------------------------------\n",
        "-아메리카노는 2500원\n",
        "-카레라떼는 3000원\n",
        "-카푸치노는 3000원\n",
        "입니다. 원하시는 커피종류와 잔수를 입력하세요.\n",
        "------------------------------'''\n",
        "print(menu)\n",
        "coffee1 = int(input(\"아메리카노 몇잔?\"))\n",
        "coffee2 = int(input(\"카페라떼 몇잔?\"))\n",
        "coffee3 = int(input(\"카푸치노 몇잔?\"))\n",
        "\n",
        "total = coffee1*2500 + coffee2*3000 + coffee3*3000\n",
        "print(\"지불할 총 금액은 \", total, \"원 입니다\")\n",
        "\n",
        "while True:\n",
        "    print('-'*50)\n",
        "    money = int(input(f'[지불할 금액:{total}] : 돈을 넣어주세요: '))\n",
        "    change = total - money\n",
        "    if total > money :\n",
        "        print(f'입력한 금액이 부족합니다. {total - money}원을 더 넣어주세요. ')\n",
        "        total = total - money\n",
        "\n",
        "    else:\n",
        "        print(f'거스름돈은 {money - total}원 입니다.')\n",
        "        break\n",
        "\n",
        "print('-'*50)\n",
        "print(' 커피 맛있게 드세요. ')\n"
      ]
    },
    {
      "cell_type": "markdown",
      "id": "af0e48ab",
      "metadata": {
        "id": "af0e48ab"
      },
      "source": [
        "## 3-3.난수(Random Variable)"
      ]
    },
    {
      "cell_type": "markdown",
      "id": "e34c55ca",
      "metadata": {
        "id": "e34c55ca"
      },
      "source": [
        "### [실습문제] 임의의 두 수 합 구하기\n",
        "1부터 10까지의 범위를 갖는 임의의 두 정수 a, b를 더하여 결과 출력하기"
      ]
    },
    {
      "cell_type": "code",
      "execution_count": 13,
      "id": "3c007936",
      "metadata": {
        "id": "3c007936",
        "colab": {
          "base_uri": "https://localhost:8080/"
        },
        "outputId": "e85c2bd1-7558-4409-cf66-229e0a5e3d00"
      },
      "outputs": [
        {
          "output_type": "stream",
          "name": "stdout",
          "text": [
            "3 + 4 = 7\n"
          ]
        }
      ],
      "source": [
        "import random\n",
        "a = random.randint(1, 10)\n",
        "b = random.randint(1, 10)\n",
        "\n",
        "print(f'{a} + {b} = {a+b}')"
      ]
    },
    {
      "cell_type": "markdown",
      "id": "357e1bdd",
      "metadata": {
        "id": "357e1bdd"
      },
      "source": [
        "### [실습문제]\n",
        "주사위를 100번 던져서 나오는 숫자를 각 숫자별로 카운트하고 가장 많이 나온 숫자와 그 숫자의 횟수를 출력하시오."
      ]
    },
    {
      "cell_type": "code",
      "execution_count": 26,
      "id": "782da2b4",
      "metadata": {
        "id": "782da2b4",
        "colab": {
          "base_uri": "https://localhost:8080/"
        },
        "outputId": "ef2eefb2-7ddb-4ac2-ecdf-dd741cb16ce4"
      },
      "outputs": [
        {
          "output_type": "stream",
          "name": "stdout",
          "text": [
            "[20, 20, 17, 11, 21, 11]\n",
            "가장 많이 나온 주사위 숫자:5  그 숫자의 횟수: 21\n"
          ]
        }
      ],
      "source": [
        "import random\n",
        "\n",
        "dice = [0,0,0,0,0,0]\n",
        "for i in range(100) :\n",
        "    x = random.randint(1, 6)\n",
        "    dice[x-1]= dice[x-1] + 1\n",
        "\n",
        "print(dice)\n",
        "print(f'가장 많이 나온 주사위 숫자:{dice.index(max(dice))+1}  그 숫자의 횟수: {max(dice)}')\n",
        "\n"
      ]
    },
    {
      "cell_type": "markdown",
      "source": [
        "###리스트 컴프리헨션"
      ],
      "metadata": {
        "id": "oe7Id_DqC6sL"
      },
      "id": "oe7Id_DqC6sL"
    },
    {
      "cell_type": "code",
      "source": [
        "#리스트에 데이터 넣어 출력하기\n",
        "a=[] # a = list()\n",
        "for i in range(1, 6):\n",
        "    a.append(i)\n",
        "print(a)"
      ],
      "metadata": {
        "colab": {
          "base_uri": "https://localhost:8080/"
        },
        "id": "NasDGw-sC3pW",
        "outputId": "30779dd8-7e65-4eb2-f985-ee905ec0bb2b"
      },
      "id": "NasDGw-sC3pW",
      "execution_count": 27,
      "outputs": [
        {
          "output_type": "stream",
          "name": "stdout",
          "text": [
            "[1, 2, 3, 4, 5]\n"
          ]
        }
      ]
    },
    {
      "cell_type": "code",
      "source": [
        "#컴프리헨션 방법\n",
        "a=[ i for i in range(1, 6)]\n",
        "print(a)"
      ],
      "metadata": {
        "colab": {
          "base_uri": "https://localhost:8080/"
        },
        "id": "SwzNWfjuDTP7",
        "outputId": "dc3903cc-b8bc-4207-e3ab-534f182ba769"
      },
      "id": "SwzNWfjuDTP7",
      "execution_count": 29,
      "outputs": [
        {
          "output_type": "stream",
          "name": "stdout",
          "text": [
            "[1, 2, 3, 4, 5]\n"
          ]
        }
      ]
    },
    {
      "cell_type": "code",
      "source": [
        "#1~10 중 3의 배수만 리스트로 만들기\n",
        "a=[ i for i in range(1, 11) if i%3==0]\n",
        "print(a)\n"
      ],
      "metadata": {
        "colab": {
          "base_uri": "https://localhost:8080/"
        },
        "id": "dTkU5E-sDvL1",
        "outputId": "bcda5ea8-07f7-4e23-913d-824ebb8438d9"
      },
      "id": "dTkU5E-sDvL1",
      "execution_count": 30,
      "outputs": [
        {
          "output_type": "stream",
          "name": "stdout",
          "text": [
            "[3, 6, 9]\n"
          ]
        }
      ]
    },
    {
      "cell_type": "code",
      "source": [
        "colors = ['r', 'g', 'b']\n",
        "a = [ c*3 for c in colors ]\n",
        "print(a)\n",
        "print(colors)\n"
      ],
      "metadata": {
        "id": "jfiCWH-3ENBX"
      },
      "id": "jfiCWH-3ENBX",
      "execution_count": null,
      "outputs": []
    },
    {
      "cell_type": "code",
      "source": [
        "a=[str(i) if i%3==0 else i for i in range(1,11)]\n",
        "print(a)"
      ],
      "metadata": {
        "colab": {
          "base_uri": "https://localhost:8080/"
        },
        "id": "0NZLRNDeE4Hg",
        "outputId": "da882e89-7ca7-4843-ed88-02c1b8804542"
      },
      "id": "0NZLRNDeE4Hg",
      "execution_count": 35,
      "outputs": [
        {
          "output_type": "stream",
          "name": "stdout",
          "text": [
            "[1, 2, '3', 4, 5, '6', 7, 8, '9', 10]\n"
          ]
        }
      ]
    },
    {
      "cell_type": "markdown",
      "source": [
        "###zip()"
      ],
      "metadata": {
        "id": "AKrGTgouIORe"
      },
      "id": "AKrGTgouIORe"
    },
    {
      "cell_type": "code",
      "source": [
        "foods = ['떡볶이', '짜장면', '라면', '피자', '맥주', '삼겹살']\n",
        "sides = ['오뎅', '단무지', '김치', '피클', '치킨']\n",
        "for food, side in zip(foods, sides):\n",
        "    print(f'{food} -->{side}')\n",
        "\n",
        "dict(zip(foods, sides))"
      ],
      "metadata": {
        "colab": {
          "base_uri": "https://localhost:8080/"
        },
        "id": "x0ALabcpINZt",
        "outputId": "f84d49a7-7196-46cf-e34a-f1ac5f6dcd00"
      },
      "id": "x0ALabcpINZt",
      "execution_count": 36,
      "outputs": [
        {
          "output_type": "stream",
          "name": "stdout",
          "text": [
            "떡볶이 -->오뎅\n",
            "짜장면 -->단무지\n",
            "라면 -->김치\n",
            "피자 -->피클\n",
            "맥주 -->치킨\n"
          ]
        },
        {
          "output_type": "execute_result",
          "data": {
            "text/plain": [
              "{'떡볶이': '오뎅', '짜장면': '단무지', '라면': '김치', '피자': '피클', '맥주': '치킨'}"
            ]
          },
          "metadata": {},
          "execution_count": 36
        }
      ]
    },
    {
      "cell_type": "code",
      "source": [
        "love = {'떡볶이': '오뎅', '짜장면': '단무지',\n",
        "        '라면': '김치', '피자': '피클', '맥주': '치킨'}\n",
        "print(love.keys())\n",
        "print(love.values())\n",
        "print(love.items())\n"
      ],
      "metadata": {
        "colab": {
          "base_uri": "https://localhost:8080/"
        },
        "id": "amRTRetoI2oC",
        "outputId": "41c1c167-3443-4fcd-9cbf-2d6c4fba6ca7"
      },
      "id": "amRTRetoI2oC",
      "execution_count": 37,
      "outputs": [
        {
          "output_type": "stream",
          "name": "stdout",
          "text": [
            "dict_keys(['떡볶이', '짜장면', '라면', '피자', '맥주'])\n",
            "dict_values(['오뎅', '단무지', '김치', '피클', '치킨'])\n",
            "dict_items([('떡볶이', '오뎅'), ('짜장면', '단무지'), ('라면', '김치'), ('피자', '피클'), ('맥주', '치킨')])\n"
          ]
        }
      ]
    },
    {
      "cell_type": "markdown",
      "id": "45e329e4",
      "metadata": {
        "id": "45e329e4"
      },
      "source": [
        "------------------------"
      ]
    },
    {
      "cell_type": "markdown",
      "id": "66025633",
      "metadata": {
        "id": "66025633"
      },
      "source": [
        "끝"
      ]
    }
  ],
  "metadata": {
    "kernelspec": {
      "display_name": "Python 3 (ipykernel)",
      "language": "python",
      "name": "python3"
    },
    "language_info": {
      "codemirror_mode": {
        "name": "ipython",
        "version": 3
      },
      "file_extension": ".py",
      "mimetype": "text/x-python",
      "name": "python",
      "nbconvert_exporter": "python",
      "pygments_lexer": "ipython3",
      "version": "3.10.9"
    },
    "vscode": {
      "interpreter": {
        "hash": "b41e41bff03a930185ac2cbea60ce521f7c8c2f5401ceb5c30214081f77ab4f5"
      }
    },
    "colab": {
      "provenance": [],
      "toc_visible": true,
      "include_colab_link": true
    }
  },
  "nbformat": 4,
  "nbformat_minor": 5
}